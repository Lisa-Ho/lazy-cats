{
 "cells": [
  {
   "cell_type": "code",
   "execution_count": 74,
   "id": "795c87b0",
   "metadata": {},
   "outputs": [],
   "source": [
    "import pandas as pd\n",
    "import matplotlib.pyplot as plt\n",
    "import numpy as np\n",
    "\n",
    "import seaborn as sns"
   ]
  },
  {
   "cell_type": "markdown",
   "id": "b73c6b9b",
   "metadata": {},
   "source": [
    "### Data prep"
   ]
  },
  {
   "cell_type": "code",
   "execution_count": 53,
   "id": "fd3a6242",
   "metadata": {},
   "outputs": [
    {
     "data": {
      "text/html": [
       "<div>\n",
       "<style scoped>\n",
       "    .dataframe tbody tr th:only-of-type {\n",
       "        vertical-align: middle;\n",
       "    }\n",
       "\n",
       "    .dataframe tbody tr th {\n",
       "        vertical-align: top;\n",
       "    }\n",
       "\n",
       "    .dataframe thead th {\n",
       "        text-align: right;\n",
       "    }\n",
       "</style>\n",
       "<table border=\"1\" class=\"dataframe\">\n",
       "  <thead>\n",
       "    <tr style=\"text-align: right;\">\n",
       "      <th></th>\n",
       "      <th>cat_id</th>\n",
       "      <th>season</th>\n",
       "      <th>total</th>\n",
       "      <th>prop_active</th>\n",
       "      <th>prop_lying</th>\n",
       "      <th>prop_sitting</th>\n",
       "      <th>prop_standing</th>\n",
       "      <th>prop_grooming</th>\n",
       "      <th>prop_littering</th>\n",
       "      <th>prop_eating</th>\n",
       "      <th>...</th>\n",
       "      <th>cat2</th>\n",
       "      <th>dog</th>\n",
       "      <th>prop_lazy</th>\n",
       "      <th>pose1_value</th>\n",
       "      <th>pose1</th>\n",
       "      <th>pose2_value</th>\n",
       "      <th>pose2</th>\n",
       "      <th>pose3_value</th>\n",
       "      <th>pose3</th>\n",
       "      <th>pose_other_value</th>\n",
       "    </tr>\n",
       "  </thead>\n",
       "  <tbody>\n",
       "    <tr>\n",
       "      <th>0</th>\n",
       "      <td>Cat1</td>\n",
       "      <td>Summer</td>\n",
       "      <td>604801</td>\n",
       "      <td>4.5</td>\n",
       "      <td>18.0</td>\n",
       "      <td>46.5</td>\n",
       "      <td>15.2</td>\n",
       "      <td>11.0</td>\n",
       "      <td>0.0</td>\n",
       "      <td>4.6</td>\n",
       "      <td>...</td>\n",
       "      <td>Single</td>\n",
       "      <td>Yes</td>\n",
       "      <td>64.5</td>\n",
       "      <td>46.5</td>\n",
       "      <td>prop_sitting</td>\n",
       "      <td>18.0</td>\n",
       "      <td>prop_lying</td>\n",
       "      <td>15.2</td>\n",
       "      <td>prop_standing</td>\n",
       "      <td>23.1</td>\n",
       "    </tr>\n",
       "    <tr>\n",
       "      <th>1</th>\n",
       "      <td>Cat10</td>\n",
       "      <td>Summer</td>\n",
       "      <td>604801</td>\n",
       "      <td>5.4</td>\n",
       "      <td>36.2</td>\n",
       "      <td>35.5</td>\n",
       "      <td>8.0</td>\n",
       "      <td>8.5</td>\n",
       "      <td>0.1</td>\n",
       "      <td>6.1</td>\n",
       "      <td>...</td>\n",
       "      <td>Single</td>\n",
       "      <td>Yes</td>\n",
       "      <td>71.7</td>\n",
       "      <td>36.2</td>\n",
       "      <td>prop_lying</td>\n",
       "      <td>35.5</td>\n",
       "      <td>prop_sitting</td>\n",
       "      <td>8.5</td>\n",
       "      <td>prop_grooming</td>\n",
       "      <td>46.8</td>\n",
       "    </tr>\n",
       "    <tr>\n",
       "      <th>2</th>\n",
       "      <td>Cat11</td>\n",
       "      <td>Summer</td>\n",
       "      <td>604801</td>\n",
       "      <td>5.6</td>\n",
       "      <td>21.6</td>\n",
       "      <td>57.2</td>\n",
       "      <td>8.4</td>\n",
       "      <td>5.6</td>\n",
       "      <td>0.1</td>\n",
       "      <td>1.4</td>\n",
       "      <td>...</td>\n",
       "      <td>Multi</td>\n",
       "      <td>No</td>\n",
       "      <td>78.8</td>\n",
       "      <td>57.2</td>\n",
       "      <td>prop_sitting</td>\n",
       "      <td>21.6</td>\n",
       "      <td>prop_lying</td>\n",
       "      <td>8.4</td>\n",
       "      <td>prop_standing</td>\n",
       "      <td>26.0</td>\n",
       "    </tr>\n",
       "    <tr>\n",
       "      <th>3</th>\n",
       "      <td>Cat12</td>\n",
       "      <td>Summer</td>\n",
       "      <td>604801</td>\n",
       "      <td>4.2</td>\n",
       "      <td>32.2</td>\n",
       "      <td>47.3</td>\n",
       "      <td>8.5</td>\n",
       "      <td>4.9</td>\n",
       "      <td>0.0</td>\n",
       "      <td>2.8</td>\n",
       "      <td>...</td>\n",
       "      <td>Multi</td>\n",
       "      <td>No</td>\n",
       "      <td>79.5</td>\n",
       "      <td>47.3</td>\n",
       "      <td>prop_sitting</td>\n",
       "      <td>32.2</td>\n",
       "      <td>prop_lying</td>\n",
       "      <td>8.5</td>\n",
       "      <td>prop_standing</td>\n",
       "      <td>35.7</td>\n",
       "    </tr>\n",
       "    <tr>\n",
       "      <th>4</th>\n",
       "      <td>Cat13</td>\n",
       "      <td>Summer</td>\n",
       "      <td>604801</td>\n",
       "      <td>2.4</td>\n",
       "      <td>45.4</td>\n",
       "      <td>23.9</td>\n",
       "      <td>17.4</td>\n",
       "      <td>2.9</td>\n",
       "      <td>0.0</td>\n",
       "      <td>8.0</td>\n",
       "      <td>...</td>\n",
       "      <td>Single</td>\n",
       "      <td>Yes</td>\n",
       "      <td>69.3</td>\n",
       "      <td>45.4</td>\n",
       "      <td>prop_lying</td>\n",
       "      <td>23.9</td>\n",
       "      <td>prop_sitting</td>\n",
       "      <td>17.4</td>\n",
       "      <td>prop_standing</td>\n",
       "      <td>19.8</td>\n",
       "    </tr>\n",
       "  </tbody>\n",
       "</table>\n",
       "<p>5 rows × 34 columns</p>\n",
       "</div>"
      ],
      "text/plain": [
       "  cat_id  season   total  prop_active  prop_lying  prop_sitting  \\\n",
       "0   Cat1  Summer  604801          4.5        18.0          46.5   \n",
       "1  Cat10  Summer  604801          5.4        36.2          35.5   \n",
       "2  Cat11  Summer  604801          5.6        21.6          57.2   \n",
       "3  Cat12  Summer  604801          4.2        32.2          47.3   \n",
       "4  Cat13  Summer  604801          2.4        45.4          23.9   \n",
       "\n",
       "   prop_standing  prop_grooming  prop_littering  prop_eating  ...    cat2  \\\n",
       "0           15.2           11.0             0.0          4.6  ...  Single   \n",
       "1            8.0            8.5             0.1          6.1  ...  Single   \n",
       "2            8.4            5.6             0.1          1.4  ...   Multi   \n",
       "3            8.5            4.9             0.0          2.8  ...   Multi   \n",
       "4           17.4            2.9             0.0          8.0  ...  Single   \n",
       "\n",
       "   dog prop_lazy  pose1_value         pose1 pose2_value         pose2  \\\n",
       "0  Yes      64.5         46.5  prop_sitting        18.0    prop_lying   \n",
       "1  Yes      71.7         36.2    prop_lying        35.5  prop_sitting   \n",
       "2   No      78.8         57.2  prop_sitting        21.6    prop_lying   \n",
       "3   No      79.5         47.3  prop_sitting        32.2    prop_lying   \n",
       "4  Yes      69.3         45.4    prop_lying        23.9  prop_sitting   \n",
       "\n",
       "  pose3_value          pose3 pose_other_value  \n",
       "0        15.2  prop_standing             23.1  \n",
       "1         8.5  prop_grooming             46.8  \n",
       "2         8.4  prop_standing             26.0  \n",
       "3         8.5  prop_standing             35.7  \n",
       "4        17.4  prop_standing             19.8  \n",
       "\n",
       "[5 rows x 34 columns]"
      ]
     },
     "execution_count": 53,
     "metadata": {},
     "output_type": "execute_result"
    }
   ],
   "source": [
    "#load data\n",
    "df_raw = pd.read_csv('Weekly_Data.csv')\n",
    "\n",
    "#reduce number of columns\n",
    "df_raw = df_raw[['Cat_id', 'Season', 'Total', 'propActive',\n",
    "       'propLying', 'propSitting', 'propStanding', 'propGrooming',\n",
    "       'propLittering', 'propEating', 'propScratching', 'Cat_Age', 'Cat_Sex',\n",
    "       'BW', 'BCS', 'BCS_ord', 'Housing', 'Area', 'Diet', 'Coat', 'Owner',\n",
    "       'Owner_Age', 'Children', 'Cat1', 'Cat2', 'Dog' ]]\n",
    "df_raw.columns = df_raw.columns.str.lower()\n",
    "col_names = {'cat_id':'cat_id', 'season': 'season', 'total': 'total', 'propactive': 'prop_active', 'proplying':'prop_lying', \n",
    "              'propsitting': 'prop_sitting', 'propstanding': 'prop_standing',\n",
    "            'propgrooming': 'prop_grooming', 'proplittering': 'prop_littering', 'propeating': 'prop_eating', \n",
    "            'propscratching': 'prop_scratching', 'cat_age':  'cat_age', 'cat_sex': 'cat_sex', \n",
    "            'bw': 'bw', 'bcs':  'bcs', 'bcs_ord': 'bcs_ord', 'housing': 'housing', 'area': 'area', \n",
    "            'diet': 'diet', 'coat': 'coat', 'owner': 'owner', 'owner_age': 'owner_age', 'children': 'children', \n",
    "            'cat1': 'cat1', 'cat2': 'cat2', 'dog': 'dog'}\n",
    "df_raw.columns = df_raw.columns.map(col_names)\n",
    "\n",
    "#prepare\n",
    "columns = ['prop_active', 'prop_lying', 'prop_sitting','prop_standing',\n",
    "            'prop_grooming', 'prop_littering', 'prop_eating', 'prop_scratching']\n",
    "for column in df_raw[columns]:\n",
    "    df_raw[column] = [round(i,3)*100 for i in df_raw[column]]\n",
    "\n",
    "#caculate total 'laziness' = time lying or sitting\n",
    "df_raw[\"prop_lazy\"] = df_raw[['prop_lying', 'prop_sitting']].sum(axis=1)\n",
    "\n",
    "#get top3 poses\n",
    "def get_nth_largest(row, n):\n",
    "    sorted_row = row.dropna().sort_values(ascending=False)\n",
    "    if len(sorted_row) >= n:\n",
    "        return pd.Series({\n",
    "            f\"pose{n}_value\": sorted_row.iloc[n - 1],\n",
    "            f\"pose{n}_column\": sorted_row.index[n - 1]\n",
    "        })\n",
    "    else:\n",
    "        return pd.Series({\n",
    "            f\"pose{n}_value\": np.nan,\n",
    "            f\"pose{n}_column\": None\n",
    "        })\n",
    "\n",
    "df_raw[[\"pose1_value\", \"pose1\"]] =  df_raw[columns].apply(\n",
    "    lambda row: get_nth_largest(row, 1), axis=1)\n",
    "df_raw[[\"pose2_value\", \"pose2\"]] =  df_raw[columns].apply(\n",
    "    lambda row: get_nth_largest(row, 2), axis=1)\n",
    "df_raw[[\"pose3_value\", \"pose3\"]] =  df_raw[columns].apply(\n",
    "    lambda row: get_nth_largest(row, 3), axis=1)\n",
    "df_raw[\"pose_other_value\"] = 100 - df_raw[[\"pose1_value\", \"pose3_value\", \"pose3_value\"]].sum(axis=1)\n",
    "\n",
    "df_raw.head()"
   ]
  },
  {
   "cell_type": "code",
   "execution_count": 203,
   "id": "c5262365",
   "metadata": {},
   "outputs": [
    {
     "data": {
      "text/html": [
       "<div>\n",
       "<style scoped>\n",
       "    .dataframe tbody tr th:only-of-type {\n",
       "        vertical-align: middle;\n",
       "    }\n",
       "\n",
       "    .dataframe tbody tr th {\n",
       "        vertical-align: top;\n",
       "    }\n",
       "\n",
       "    .dataframe thead th {\n",
       "        text-align: right;\n",
       "    }\n",
       "</style>\n",
       "<table border=\"1\" class=\"dataframe\">\n",
       "  <thead>\n",
       "    <tr style=\"text-align: right;\">\n",
       "      <th></th>\n",
       "      <th>cat_id</th>\n",
       "      <th>prop_active</th>\n",
       "      <th>prop_lying</th>\n",
       "      <th>prop_sitting</th>\n",
       "      <th>prop_standing</th>\n",
       "      <th>prop_grooming</th>\n",
       "      <th>prop_littering</th>\n",
       "      <th>prop_eating</th>\n",
       "      <th>prop_scratching</th>\n",
       "      <th>cat_age</th>\n",
       "      <th>...</th>\n",
       "      <th>pose3_winter</th>\n",
       "      <th>pose_other_value_winter</th>\n",
       "      <th>prop_lying_winter</th>\n",
       "      <th>prop_sitting_winter</th>\n",
       "      <th>prop_standing_winter</th>\n",
       "      <th>lazy_season</th>\n",
       "      <th>lazy_diff</th>\n",
       "      <th>stripe1</th>\n",
       "      <th>stripe2</th>\n",
       "      <th>stripe3</th>\n",
       "    </tr>\n",
       "  </thead>\n",
       "  <tbody>\n",
       "    <tr>\n",
       "      <th>0</th>\n",
       "      <td>Cat1</td>\n",
       "      <td>3.50</td>\n",
       "      <td>39.95</td>\n",
       "      <td>27.65</td>\n",
       "      <td>12.5</td>\n",
       "      <td>7.20</td>\n",
       "      <td>0.00</td>\n",
       "      <td>9.10</td>\n",
       "      <td>0.15</td>\n",
       "      <td>Junior</td>\n",
       "      <td>...</td>\n",
       "      <td>standing</td>\n",
       "      <td>18.5</td>\n",
       "      <td>61.9</td>\n",
       "      <td>8.8</td>\n",
       "      <td>9.8</td>\n",
       "      <td>winter</td>\n",
       "      <td>6.2</td>\n",
       "      <td>1</td>\n",
       "      <td>1</td>\n",
       "      <td>0</td>\n",
       "    </tr>\n",
       "    <tr>\n",
       "      <th>1</th>\n",
       "      <td>Cat10</td>\n",
       "      <td>3.50</td>\n",
       "      <td>40.70</td>\n",
       "      <td>26.40</td>\n",
       "      <td>13.7</td>\n",
       "      <td>6.20</td>\n",
       "      <td>0.10</td>\n",
       "      <td>9.25</td>\n",
       "      <td>0.20</td>\n",
       "      <td>Mature</td>\n",
       "      <td>...</td>\n",
       "      <td>sitting</td>\n",
       "      <td>20.2</td>\n",
       "      <td>45.2</td>\n",
       "      <td>17.3</td>\n",
       "      <td>19.4</td>\n",
       "      <td>summer</td>\n",
       "      <td>-9.2</td>\n",
       "      <td>1</td>\n",
       "      <td>1</td>\n",
       "      <td>0</td>\n",
       "    </tr>\n",
       "    <tr>\n",
       "      <th>2</th>\n",
       "      <td>Cat11</td>\n",
       "      <td>3.95</td>\n",
       "      <td>39.05</td>\n",
       "      <td>36.55</td>\n",
       "      <td>9.1</td>\n",
       "      <td>4.85</td>\n",
       "      <td>0.05</td>\n",
       "      <td>6.35</td>\n",
       "      <td>0.10</td>\n",
       "      <td>Junior</td>\n",
       "      <td>...</td>\n",
       "      <td>eating</td>\n",
       "      <td>20.9</td>\n",
       "      <td>56.5</td>\n",
       "      <td>15.9</td>\n",
       "      <td>9.8</td>\n",
       "      <td>summer</td>\n",
       "      <td>-6.4</td>\n",
       "      <td>1</td>\n",
       "      <td>1</td>\n",
       "      <td>0</td>\n",
       "    </tr>\n",
       "    <tr>\n",
       "      <th>3</th>\n",
       "      <td>Cat12</td>\n",
       "      <td>3.10</td>\n",
       "      <td>36.65</td>\n",
       "      <td>33.60</td>\n",
       "      <td>16.6</td>\n",
       "      <td>4.05</td>\n",
       "      <td>0.00</td>\n",
       "      <td>5.95</td>\n",
       "      <td>0.05</td>\n",
       "      <td>Prime</td>\n",
       "      <td>...</td>\n",
       "      <td>sitting</td>\n",
       "      <td>19.1</td>\n",
       "      <td>41.1</td>\n",
       "      <td>19.9</td>\n",
       "      <td>24.7</td>\n",
       "      <td>summer</td>\n",
       "      <td>-18.5</td>\n",
       "      <td>0</td>\n",
       "      <td>0</td>\n",
       "      <td>0</td>\n",
       "    </tr>\n",
       "    <tr>\n",
       "      <th>4</th>\n",
       "      <td>Cat13</td>\n",
       "      <td>2.40</td>\n",
       "      <td>53.40</td>\n",
       "      <td>17.70</td>\n",
       "      <td>13.8</td>\n",
       "      <td>3.20</td>\n",
       "      <td>0.00</td>\n",
       "      <td>9.50</td>\n",
       "      <td>0.00</td>\n",
       "      <td>Prime</td>\n",
       "      <td>...</td>\n",
       "      <td>eating</td>\n",
       "      <td>16.6</td>\n",
       "      <td>61.4</td>\n",
       "      <td>11.5</td>\n",
       "      <td>10.2</td>\n",
       "      <td>winter</td>\n",
       "      <td>3.6</td>\n",
       "      <td>0</td>\n",
       "      <td>0</td>\n",
       "      <td>0</td>\n",
       "    </tr>\n",
       "  </tbody>\n",
       "</table>\n",
       "<p>5 rows × 59 columns</p>\n",
       "</div>"
      ],
      "text/plain": [
       "  cat_id  prop_active  prop_lying  prop_sitting  prop_standing  prop_grooming  \\\n",
       "0   Cat1         3.50       39.95         27.65           12.5           7.20   \n",
       "1  Cat10         3.50       40.70         26.40           13.7           6.20   \n",
       "2  Cat11         3.95       39.05         36.55            9.1           4.85   \n",
       "3  Cat12         3.10       36.65         33.60           16.6           4.05   \n",
       "4  Cat13         2.40       53.40         17.70           13.8           3.20   \n",
       "\n",
       "   prop_littering  prop_eating  prop_scratching cat_age  ... pose3_winter  \\\n",
       "0            0.00         9.10             0.15  Junior  ...     standing   \n",
       "1            0.10         9.25             0.20  Mature  ...      sitting   \n",
       "2            0.05         6.35             0.10  Junior  ...       eating   \n",
       "3            0.00         5.95             0.05   Prime  ...      sitting   \n",
       "4            0.00         9.50             0.00   Prime  ...       eating   \n",
       "\n",
       "   pose_other_value_winter  prop_lying_winter prop_sitting_winter  \\\n",
       "0                     18.5               61.9                 8.8   \n",
       "1                     20.2               45.2                17.3   \n",
       "2                     20.9               56.5                15.9   \n",
       "3                     19.1               41.1                19.9   \n",
       "4                     16.6               61.4                11.5   \n",
       "\n",
       "  prop_standing_winter lazy_season lazy_diff stripe1 stripe2 stripe3  \n",
       "0                  9.8      winter       6.2       1       1       0  \n",
       "1                 19.4      summer      -9.2       1       1       0  \n",
       "2                  9.8      summer      -6.4       1       1       0  \n",
       "3                 24.7      summer     -18.5       0       0       0  \n",
       "4                 10.2      winter       3.6       0       0       0  \n",
       "\n",
       "[5 rows x 59 columns]"
      ]
     },
     "execution_count": 203,
     "metadata": {},
     "output_type": "execute_result"
    }
   ],
   "source": [
    "#get aggregates by cat\n",
    "df = df_raw.groupby(\"cat_id\").agg({'prop_active':\"mean\", 'prop_lying':\"mean\", 'prop_sitting':\"mean\",\n",
    "       'prop_standing':\"mean\", 'prop_grooming':\"mean\", 'prop_littering':\"mean\", 'prop_eating':\"mean\",\n",
    "       'prop_scratching':\"mean\", 'cat_age':\"first\", 'cat_sex':\"first\", 'bw':\"first\", 'bcs':\"first\", 'bcs_ord':\"first\",\n",
    "       'housing':\"first\", 'area':\"first\", 'diet':\"first\", 'coat':\"first\", 'owner':\"first\", 'owner_age':\"first\", 'children':\"first\",\n",
    "       'cat1':\"first\", 'cat2':\"first\", 'dog':\"first\",\n",
    "}).reset_index()\n",
    "\n",
    "#top 3 poses\n",
    "df[[\"pose1_value\", \"pose1\"]] =  df[columns].apply(\n",
    "    lambda row: get_nth_largest(row, 1), axis=1)\n",
    "df[[\"pose2_value\", \"pose2\"]] =  df[columns].apply(\n",
    "    lambda row: get_nth_largest(row, 2), axis=1)\n",
    "df[[\"pose3_value\", \"pose3\"]] =  df[columns].apply(\n",
    "    lambda row: get_nth_largest(row, 3), axis=1)\n",
    "df[\"pose_other_value\"] = 100 - df[[\"pose1_value\", \"pose3_value\", \"pose3_value\"]].sum(axis=1)\n",
    "\n",
    "#caculate total 'laziness' = time lying or sitting\n",
    "df[\"prop_lazy\"] = df[['prop_lying', 'prop_sitting']].sum(axis=1)\n",
    "\n",
    "#merge summer and winter data\n",
    "df = pd.merge(df, \n",
    "              df_raw[df_raw[\"season\"]==\"Summer\"][[\"cat_id\", \"prop_lazy\",'pose1_value', 'pose1',\n",
    "                                                   'pose2_value', 'pose2', 'pose3_value', 'pose3', \n",
    "                                                   \"pose_other_value\", 'prop_lying', 'prop_sitting',\n",
    "                                                   'prop_standing']],\n",
    "              how=\"left\", suffixes=[\"\", \"_summer\"],\n",
    "              left_on=\"cat_id\", right_on=\"cat_id\")\n",
    "\n",
    "df = pd.merge(df, \n",
    "              df_raw[df_raw[\"season\"]==\"Winter\"][[\"cat_id\", \"prop_lazy\",'pose1_value', 'pose1', \n",
    "                                                  'pose2_value', 'pose2', 'pose3_value', 'pose3',\n",
    "                                                    \"pose_other_value\", 'prop_lying', 'prop_sitting',\n",
    "                                                   'prop_standing']],\n",
    "              how=\"left\", suffixes=[\"\", \"_winter\"],\n",
    "              left_on=\"cat_id\", right_on=\"cat_id\")\n",
    "\n",
    "#more lazy in summer or winter\n",
    "df[\"lazy_season\"] = df[[\"prop_lazy_summer\", \"prop_lazy_winter\"]].idxmax(axis=1).str.split(\"_\").str[2]\n",
    "df[\"lazy_diff\"] = (df[\"prop_lazy_winter\"] - df[\"prop_lazy_summer\"])\n",
    "\n",
    "#convert weight rating into dummy variables (5=Ideal > no stripes, 6=Overweight, 7=Heavy, 8=Obese > 3 stripes)\n",
    "df[\"stripe1\"] = [1 if i > 5 else 0 for i in df[\"bcs\"]]\n",
    "df[\"stripe2\"] = [1 if i > 6 else 0 for i in df[\"bcs\"]]\n",
    "df[\"stripe3\"] = [1 if i > 7 else 0 for i in df[\"bcs\"]]\n",
    "\n",
    "#clean up pose values\n",
    "for column in ['pose1', 'pose2', 'pose3', 'pose1_summer', 'pose2_summer', 'pose3_summer',\n",
    "               'pose1_winter', 'pose2_winter', 'pose3_winter']:\n",
    "    df[column] = [i.split(\"_\")[1] for i in df[column]]\n",
    "\n",
    "df.head()"
   ]
  },
  {
   "cell_type": "code",
   "execution_count": 204,
   "id": "c83fc635",
   "metadata": {},
   "outputs": [],
   "source": [
    "#cat names \n",
    "#names come from Blue Cross charity https://www.bluecross.org.uk/advice/cat/wellbeing-and-care/top-cat-names\n",
    "#import random\n",
    "#random.shuffle(names_females)\n",
    "names_females = ['Fuzzy', 'Tilly', 'Patches', 'Lilly', 'Pumpkin', 'Luna', 'Fluffy',\n",
    "                'Bella', 'Molly', 'Bubbles', 'Smudge', 'Misty', 'Poppy', 'Fudge',\n",
    "                'Daisy', 'Lily', 'Boo']\n",
    "names_males = ['Inky', 'Charlie', 'Ralph', 'Finley', 'Tabby', 'Marbles', 'Lucky',\n",
    "                'Oscar', 'Socks', 'Felix', 'Buddy']\n",
    "\n",
    "#assign random cat name\n",
    "female_iter = iter(names_females)\n",
    "male_iter = iter(names_males)\n",
    "def assign_name(gender):\n",
    "    if gender == 'Neutered female':\n",
    "        return next(female_iter, 'Unnamed_Female')\n",
    "    elif gender == 'Neutered male':\n",
    "        return next(male_iter, 'Unnamed_Male')\n",
    "    else:\n",
    "        return 'Unknown'\n",
    "df['cat_name'] = df['cat_sex'].apply(assign_name)"
   ]
  },
  {
   "cell_type": "code",
   "execution_count": 205,
   "id": "02af5b21",
   "metadata": {},
   "outputs": [
    {
     "data": {
      "text/plain": [
       "'[{\"cat_id\":\"Cat1\",\"prop_active\":3.5,\"prop_lying\":39.95,\"prop_sitting\":27.65,\"prop_standing\":12.5,\"prop_grooming\":7.2,\"prop_littering\":0.0,\"prop_eating\":9.1,\"prop_scratching\":0.15,\"cat_age\":\"Junior\",\"cat_sex\":\"Neutered male\",\"bw\":5.0,\"bcs\":7.0,\"bcs_ord\":\"Heavy\",\"housing\":\"Indoor Outdoor\",\"area\":\"Rural\",\"diet\":\"Mix\",\"coat\":\"Short\",\"owner\":\"Owner2\",\"owner_age\":\"25 - 34 years\",\"children\":\"No\",\"cat1\":\"One\",\"cat2\":\"Single\",\"dog\":\"Yes\",\"pose1_value\":39.95,\"pose1\":\"lying\",\"pose2_value\":27.65,\"pose2\":\"sitting\",\"pose3_value\":12.5,\"pose3\":\"standing\",\"pose_other_value\":35.05,\"prop_lazy\":67.6,\"prop_lazy_summer\":64.5,\"pose1_value_summer\":46.5,\"pose1_summer\":\"sitting\",\"pose2_value_summer\":18.0,\"pose2_summer\":\"lying\",\"pose3_value_summer\":15.2,\"pose3_summer\":\"standing\",\"pose_other_value_summer\":23.1,\"prop_lying_summer\":18.0,\"prop_sitting_summer\":46.5,\"prop_standing_summer\":15.2,\"prop_lazy_winter\":70.7,\"pose1_value_winter\":61.9,\"pose1_winter\":\"lying\",\"pose2_value_winter\":13.6,\"pose2_winter\":\"eating\",\"pose3_value_winter\":9.8,\"pose3_winter\":\"standing\",\"pose_other_value_winter\":18.5,\"prop_lying_winter\":61.9,\"prop_sitting_winter\":8.8,\"prop_standing_winter\":9.8,\"lazy_season\":\"winter\",\"lazy_diff\":6.2,\"stripe1\":1,\"stripe2\":1,\"stripe3\":0,\"cat_name\":\"Inky\"},{\"cat_id\":\"Cat10\",\"prop_active\":3.5,\"prop_lying\":40.7,\"prop_sitting\":26.4,\"prop_standing\":13.7,\"prop_grooming\":6.2,\"prop_littering\":0.1,\"prop_eating\":9.25,\"prop_scratching\":0.2,\"cat_age\":\"Mature\",\"cat_sex\":\"Neutered female\",\"bw\":5.7,\"bcs\":7.0,\"bcs_ord\":\"Heavy\",\"housing\":\"Indoor Outdoor\",\"area\":\"Rural\",\"diet\":\"Dry\",\"coat\":\"Short\",\"owner\":\"Owner8\",\"owner_age\":\"55 - 65 years\",\"children\":\"No\",\"cat1\":\"One\",\"cat2\":\"Single\",\"dog\":\"Yes\",\"pose1_value\":40.7,\"pose1\":\"lying\",\"pose2_value\":26.4,\"pose2\":\"sitting\",\"pose3_value\":13.7,\"pose3\":\"standing\",\"pose_other_value\":31.9,\"prop_lazy\":67.1,\"prop_lazy_summer\":71.7,\"pose1_value_summer\":36.2,\"pose1_summer\":\"lying\",\"pose2_value_summer\":35.5,\"pose2_summer\":\"sitting\",\"pose3_value_summer\":8.5,\"pose3_summer\":\"grooming\",\"pose_other_value_summer\":46.8,\"prop_lying_summer\":36.2,\"prop_sitting_summer\":35.5,\"prop_standing_summer\":8.0,\"prop_lazy_winter\":62.5,\"pose1_value_winter\":45.2,\"pose1_winter\":\"lying\",\"pose2_value_winter\":19.4,\"pose2_winter\":\"standing\",\"pose3_value_winter\":17.3,\"pose3_winter\":\"sitting\",\"pose_other_value_winter\":20.2,\"prop_lying_winter\":45.2,\"prop_sitting_winter\":17.3,\"prop_standing_winter\":19.4,\"lazy_season\":\"summer\",\"lazy_diff\":-9.2,\"stripe1\":1,\"stripe2\":1,\"stripe3\":0,\"cat_name\":\"Fuzzy\"},{\"cat_id\":\"Cat11\",\"prop_active\":3.95,\"prop_lying\":39.05,\"prop_sitting\":36.55,\"prop_standing\":9.1,\"prop_grooming\":4.85,\"prop_littering\":0.05,\"prop_eating\":6.35,\"prop_scratching\":0.1,\"cat_age\":\"Junior\",\"cat_sex\":\"Neutered female\",\"bw\":5.7,\"bcs\":7.0,\"bcs_ord\":\"Heavy\",\"housing\":\"Indoor Outdoor\",\"area\":\"Urban\",\"diet\":\"Mix\",\"coat\":\"Short\",\"owner\":\"Owner15\",\"owner_age\":\"45 - 54 years\",\"children\":\"No\",\"cat1\":\"Two\",\"cat2\":\"Multi\",\"dog\":\"No\",\"pose1_value\":39.05,\"pose1\":\"lying\",\"pose2_value\":36.55,\"pose2\":\"sitting\",\"pose3_value\":9.1,\"pose3\":\"standing\",\"pose_other_value\":42.75,\"prop_lazy\":75.6,\"prop_lazy_summer\":78.8,\"pose1_value_summer\":57.2,\"pose1_summer\":\"sitting\",\"pose2_value_summer\":21.6,\"pose2_summer\":\"lying\",\"pose3_value_summer\":8.4,\"pose3_summer\":\"standing\",\"pose_other_value_summer\":26.0,\"prop_lying_summer\":21.6,\"prop_sitting_summer\":57.2,\"prop_standing_summer\":8.4,\"prop_lazy_winter\":72.4,\"pose1_value_winter\":56.5,\"pose1_winter\":\"lying\",\"pose2_value_winter\":15.9,\"pose2_winter\":\"sitting\",\"pose3_value_winter\":11.3,\"pose3_winter\":\"eating\",\"pose_other_value_winter\":20.9,\"prop_lying_winter\":56.5,\"prop_sitting_winter\":15.9,\"prop_standing_winter\":9.8,\"lazy_season\":\"summer\",\"lazy_diff\":-6.4,\"stripe1\":1,\"stripe2\":1,\"stripe3\":0,\"cat_name\":\"Tilly\"},{\"cat_id\":\"Cat12\",\"prop_active\":3.1,\"prop_lying\":36.65,\"prop_sitting\":33.6,\"prop_standing\":16.6,\"prop_grooming\":4.05,\"prop_littering\":0.0,\"prop_eating\":5.95,\"prop_scratching\":0.05,\"cat_age\":\"Prime\",\"cat_sex\":\"Neutered male\",\"bw\":4.6,\"bcs\":5.0,\"bcs_ord\":\"Ideal\",\"housing\":\"Indoor Outdoor\",\"area\":\"Urban\",\"diet\":\"Mix\",\"coat\":\"Short\",\"owner\":\"Owner12\",\"owner_age\":\"25 - 34 years\",\"children\":\"No\",\"cat1\":\"Two\",\"cat2\":\"Multi\",\"dog\":\"No\",\"pose1_value\":36.65,\"pose1\":\"lying\",\"pose2_value\":33.6,\"pose2\":\"sitting\",\"pose3_value\":16.6,\"pose3\":\"standing\",\"pose_other_value\":30.15,\"prop_lazy\":70.25,\"prop_lazy_summer\":79.5,\"pose1_value_summer\":47.3,\"pose1_summer\":\"sitting\",\"pose2_value_summer\":32.2,\"pose2_summer\":\"lying\",\"pose3_value_summer\":8.5,\"pose3_summer\":\"standing\",\"pose_other_value_summer\":35.7,\"prop_lying_summer\":32.2,\"prop_sitting_summer\":47.3,\"prop_standing_summer\":8.5,\"prop_lazy_winter\":61.0,\"pose1_value_winter\":41.1,\"pose1_winter\":\"lying\",\"pose2_value_winter\":24.7,\"pose2_winter\":\"standing\",\"pose3_value_winter\":19.9,\"pose3_winter\":\"sitting\",\"pose_other_value_winter\":19.1,\"prop_lying_winter\":41.1,\"prop_sitting_winter\":19.9,\"prop_standing_winter\":24.7,\"lazy_season\":\"summer\",\"lazy_diff\":-18.5,\"stripe1\":0,\"stripe2\":0,\"stripe3\":0,\"cat_name\":\"Charlie\"},{\"cat_id\":\"Cat13\",\"prop_active\":2.4,\"prop_lying\":53.4,\"prop_sitting\":17.7,\"prop_standing\":13.8,\"prop_grooming\":3.2,\"prop_littering\":0.0,\"prop_eating\":9.5,\"prop_scratching\":0.0,\"cat_age\":\"Prime\",\"cat_sex\":\"Neutered female\",\"bw\":4.0,\"bcs\":5.0,\"bcs_ord\":\"Ideal\",\"housing\":\"Indoor Outdoor\",\"area\":\"Rural\",\"diet\":\"Dry\",\"coat\":\"Long\",\"owner\":\"Owner16\",\"owner_age\":\"25 - 34 years\",\"children\":\"No\",\"cat1\":\"One\",\"cat2\":\"Single\",\"dog\":\"Yes\",\"pose1_value\":53.4,\"pose1\":\"lying\",\"pose2_value\":17.7,\"pose2\":\"sitting\",\"pose3_value\":13.8,\"pose3\":\"standing\",\"pose_other_value\":19.0,\"prop_lazy\":71.1,\"prop_lazy_summer\":69.3,\"pose1_value_summer\":45.4,\"pose1_summer\":\"lying\",\"pose2_value_summer\":23.9,\"pose2_summer\":\"sitting\",\"pose3_value_summer\":17.4,\"pose3_summer\":\"standing\",\"pose_other_value_summer\":19.8,\"prop_lying_summer\":45.4,\"prop_sitting_summer\":23.9,\"prop_standing_summer\":17.4,\"prop_lazy_winter\":72.9,\"pose1_value_winter\":61.4,\"pose1_winter\":\"lying\",\"pose2_value_winter\":11.5,\"pose2_winter\":\"sitting\",\"pose3_value_winter\":11.0,\"pose3_winter\":\"eating\",\"pose_other_value_winter\":16.6,\"prop_lying_winter\":61.4,\"prop_sitting_winter\":11.5,\"prop_standing_winter\":10.2,\"lazy_season\":\"winter\",\"lazy_diff\":3.6,\"stripe1\":0,\"stripe2\":0,\"stripe3\":0,\"cat_name\":\"Patches\"},{\"cat_id\":\"Cat14\",\"prop_active\":2.7,\"prop_lying\":28.65,\"prop_sitting\":49.65,\"prop_standing\":8.75,\"prop_grooming\":6.4,\"prop_littering\":0.05,\"prop_eating\":3.6,\"prop_scratching\":0.15,\"cat_age\":\"Prime\",\"cat_sex\":\"Neutered female\",\"bw\":null,\"bcs\":null,\"bcs_ord\":null,\"housing\":\"Indoor Outdoor\",\"area\":\"Urban\",\"diet\":\"Dry\",\"coat\":\"Short\",\"owner\":\"Owner19\",\"owner_age\":\"35  - 44 years\",\"children\":\"Yes\",\"cat1\":\"Three\",\"cat2\":\"Multi\",\"dog\":\"Yes\",\"pose1_value\":49.65,\"pose1\":\"sitting\",\"pose2_value\":28.65,\"pose2\":\"lying\",\"pose3_value\":8.75,\"pose3\":\"standing\",\"pose_other_value\":32.85,\"prop_lazy\":78.3,\"prop_lazy_summer\":75.2,\"pose1_value_summer\":45.9,\"pose1_summer\":\"lying\",\"pose2_value_summer\":29.3,\"pose2_summer\":\"sitting\",\"pose3_value_summer\":8.6,\"pose3_summer\":\"standing\",\"pose_other_value_summer\":36.9,\"prop_lying_summer\":45.9,\"prop_sitting_summer\":29.3,\"prop_standing_summer\":8.6,\"prop_lazy_winter\":81.4,\"pose1_value_winter\":70.0,\"pose1_winter\":\"sitting\",\"pose2_value_winter\":11.4,\"pose2_winter\":\"lying\",\"pose3_value_winter\":8.9,\"pose3_winter\":\"standing\",\"pose_other_value_winter\":12.2,\"prop_lying_winter\":11.4,\"prop_sitting_winter\":70.0,\"prop_standing_winter\":8.9,\"lazy_season\":\"winter\",\"lazy_diff\":6.2,\"stripe1\":0,\"stripe2\":0,\"stripe3\":0,\"cat_name\":\"Lilly\"},{\"cat_id\":\"Cat15\",\"prop_active\":1.85,\"prop_lying\":31.55,\"prop_sitting\":45.0,\"prop_standing\":10.65,\"prop_grooming\":6.7,\"prop_littering\":0.0,\"prop_eating\":4.0,\"prop_scratching\":0.25,\"cat_age\":\"Prime\",\"cat_sex\":\"Neutered female\",\"bw\":4.2,\"bcs\":6.0,\"bcs_ord\":\"Overweight\",\"housing\":\"Indoor Outdoor\",\"area\":\"Urban\",\"diet\":\"Mix\",\"coat\":\"Short\",\"owner\":\"Owner1\",\"owner_age\":\"25 - 34 years\",\"children\":\"No\",\"cat1\":\"Two\",\"cat2\":\"Multi\",\"dog\":\"Yes\",\"pose1_value\":45.0,\"pose1\":\"sitting\",\"pose2_value\":31.55,\"pose2\":\"lying\",\"pose3_value\":10.65,\"pose3\":\"standing\",\"pose_other_value\":33.7,\"prop_lazy\":76.55,\"prop_lazy_summer\":76.2,\"pose1_value_summer\":43.9,\"pose1_summer\":\"lying\",\"pose2_value_summer\":32.3,\"pose2_summer\":\"sitting\",\"pose3_value_summer\":9.2,\"pose3_summer\":\"standing\",\"pose_other_value_summer\":37.7,\"prop_lying_summer\":43.9,\"prop_sitting_summer\":32.3,\"prop_standing_summer\":9.2,\"prop_lazy_winter\":76.9,\"pose1_value_winter\":57.7,\"pose1_winter\":\"sitting\",\"pose2_value_winter\":19.2,\"pose2_winter\":\"lying\",\"pose3_value_winter\":12.1,\"pose3_winter\":\"standing\",\"pose_other_value_winter\":18.1,\"prop_lying_winter\":19.2,\"prop_sitting_winter\":57.7,\"prop_standing_winter\":12.1,\"lazy_season\":\"winter\",\"lazy_diff\":0.7,\"stripe1\":1,\"stripe2\":0,\"stripe3\":0,\"cat_name\":\"Pumpkin\"},{\"cat_id\":\"Cat16\",\"prop_active\":2.4,\"prop_lying\":35.65,\"prop_sitting\":43.65,\"prop_standing\":8.6,\"prop_grooming\":7.45,\"prop_littering\":0.0,\"prop_eating\":2.15,\"prop_scratching\":0.1,\"cat_age\":\"Prime\",\"cat_sex\":\"Neutered male\",\"bw\":5.3,\"bcs\":5.0,\"bcs_ord\":\"Ideal\",\"housing\":\"Indoor\",\"area\":\"Urban\",\"diet\":\"Mix\",\"coat\":\"Long\",\"owner\":\"Owner9\",\"owner_age\":\"55 - 65 years\",\"children\":\"No\",\"cat1\":\"Two\",\"cat2\":\"Multi\",\"dog\":\"No\",\"pose1_value\":43.65,\"pose1\":\"sitting\",\"pose2_value\":35.65,\"pose2\":\"lying\",\"pose3_value\":8.6,\"pose3\":\"standing\",\"pose_other_value\":39.15,\"prop_lazy\":79.3,\"prop_lazy_summer\":78.5,\"pose1_value_summer\":45.0,\"pose1_summer\":\"sitting\",\"pose2_value_summer\":33.5,\"pose2_summer\":\"lying\",\"pose3_value_summer\":9.2,\"pose3_summer\":\"grooming\",\"pose_other_value_summer\":36.6,\"prop_lying_summer\":33.5,\"prop_sitting_summer\":45.0,\"prop_standing_summer\":8.0,\"prop_lazy_winter\":80.1,\"pose1_value_winter\":42.3,\"pose1_winter\":\"sitting\",\"pose2_value_winter\":37.8,\"pose2_winter\":\"lying\",\"pose3_value_winter\":9.2,\"pose3_winter\":\"standing\",\"pose_other_value_winter\":39.3,\"prop_lying_winter\":37.8,\"prop_sitting_winter\":42.3,\"prop_standing_winter\":9.2,\"lazy_season\":\"winter\",\"lazy_diff\":1.6,\"stripe1\":0,\"stripe2\":0,\"stripe3\":0,\"cat_name\":\"Ralph\"},{\"cat_id\":\"Cat17\",\"prop_active\":1.5,\"prop_lying\":29.9,\"prop_sitting\":50.0,\"prop_standing\":11.8,\"prop_grooming\":4.65,\"prop_littering\":0.05,\"prop_eating\":2.0,\"prop_scratching\":0.05,\"cat_age\":\"Mature\",\"cat_sex\":\"Neutered male\",\"bw\":3.2,\"bcs\":5.0,\"bcs_ord\":\"Ideal\",\"housing\":\"Indoor\",\"area\":\"Urban\",\"diet\":\"Dry\",\"coat\":\"Short\",\"owner\":\"Owner17\",\"owner_age\":\"25 - 34 years\",\"children\":\"No\",\"cat1\":\"Three\",\"cat2\":\"Multi\",\"dog\":\"No\",\"pose1_value\":50.0,\"pose1\":\"sitting\",\"pose2_value\":29.9,\"pose2\":\"lying\",\"pose3_value\":11.8,\"pose3\":\"standing\",\"pose_other_value\":26.4,\"prop_lazy\":79.9,\"prop_lazy_summer\":83.1,\"pose1_value_summer\":57.9,\"pose1_summer\":\"sitting\",\"pose2_value_summer\":25.2,\"pose2_summer\":\"lying\",\"pose3_value_summer\":9.3,\"pose3_summer\":\"standing\",\"pose_other_value_summer\":23.5,\"prop_lying_summer\":25.2,\"prop_sitting_summer\":57.9,\"prop_standing_summer\":9.3,\"prop_lazy_winter\":76.7,\"pose1_value_winter\":42.1,\"pose1_winter\":\"sitting\",\"pose2_value_winter\":34.6,\"pose2_winter\":\"lying\",\"pose3_value_winter\":14.3,\"pose3_winter\":\"standing\",\"pose_other_value_winter\":29.3,\"prop_lying_winter\":34.6,\"prop_sitting_winter\":42.1,\"prop_standing_winter\":14.3,\"lazy_season\":\"summer\",\"lazy_diff\":-6.4,\"stripe1\":0,\"stripe2\":0,\"stripe3\":0,\"cat_name\":\"Finley\"},{\"cat_id\":\"Cat18\",\"prop_active\":2.85,\"prop_lying\":44.15,\"prop_sitting\":31.1,\"prop_standing\":11.15,\"prop_grooming\":3.25,\"prop_littering\":0.0,\"prop_eating\":7.45,\"prop_scratching\":0.0,\"cat_age\":\"Prime\",\"cat_sex\":\"Neutered male\",\"bw\":5.3,\"bcs\":6.0,\"bcs_ord\":\"Overweight\",\"housing\":\"Indoor Outdoor\",\"area\":\"Rural\",\"diet\":\"Mix\",\"coat\":\"Short\",\"owner\":\"Owner13\",\"owner_age\":\"45 - 54 years\",\"children\":\"Yes\",\"cat1\":\"One\",\"cat2\":\"Single\",\"dog\":\"No\",\"pose1_value\":44.15,\"pose1\":\"lying\",\"pose2_value\":31.1,\"pose2\":\"sitting\",\"pose3_value\":11.15,\"pose3\":\"standing\",\"pose_other_value\":33.55,\"prop_lazy\":75.25,\"prop_lazy_summer\":75.7,\"pose1_value_summer\":39.1,\"pose1_summer\":\"lying\",\"pose2_value_summer\":36.6,\"pose2_summer\":\"sitting\",\"pose3_value_summer\":10.8,\"pose3_summer\":\"standing\",\"pose_other_value_summer\":39.3,\"prop_lying_summer\":39.1,\"prop_sitting_summer\":36.6,\"prop_standing_summer\":10.8,\"prop_lazy_winter\":74.8,\"pose1_value_winter\":49.2,\"pose1_winter\":\"lying\",\"pose2_value_winter\":25.6,\"pose2_winter\":\"sitting\",\"pose3_value_winter\":11.5,\"pose3_winter\":\"standing\",\"pose_other_value_winter\":27.8,\"prop_lying_winter\":49.2,\"prop_sitting_winter\":25.6,\"prop_standing_winter\":11.5,\"lazy_season\":\"summer\",\"lazy_diff\":-0.9,\"stripe1\":1,\"stripe2\":0,\"stripe3\":0,\"cat_name\":\"Tabby\"},{\"cat_id\":\"Cat19\",\"prop_active\":2.55,\"prop_lying\":42.15,\"prop_sitting\":24.0,\"prop_standing\":21.4,\"prop_grooming\":4.15,\"prop_littering\":0.0,\"prop_eating\":5.6,\"prop_scratching\":0.15,\"cat_age\":\"Prime\",\"cat_sex\":\"Neutered female\",\"bw\":3.2,\"bcs\":7.0,\"bcs_ord\":\"Heavy\",\"housing\":\"Indoor Outdoor\",\"area\":\"Urban\",\"diet\":\"Mix\",\"coat\":\"Short\",\"owner\":\"Owner18\",\"owner_age\":\"45 - 54 years\",\"children\":\"Yes\",\"cat1\":\"One\",\"cat2\":\"Single\",\"dog\":\"Yes\",\"pose1_value\":42.15,\"pose1\":\"lying\",\"pose2_value\":24.0,\"pose2\":\"sitting\",\"pose3_value\":21.4,\"pose3\":\"standing\",\"pose_other_value\":15.05,\"prop_lazy\":66.15,\"prop_lazy_summer\":72.3,\"pose1_value_summer\":48.0,\"pose1_summer\":\"lying\",\"pose2_value_summer\":24.3,\"pose2_summer\":\"sitting\",\"pose3_value_summer\":12.8,\"pose3_summer\":\"standing\",\"pose_other_value_summer\":26.4,\"prop_lying_summer\":48.0,\"prop_sitting_summer\":24.3,\"prop_standing_summer\":12.8,\"prop_lazy_winter\":60.0,\"pose1_value_winter\":36.3,\"pose1_winter\":\"lying\",\"pose2_value_winter\":30.0,\"pose2_winter\":\"standing\",\"pose3_value_winter\":23.7,\"pose3_winter\":\"sitting\",\"pose_other_value_winter\":16.3,\"prop_lying_winter\":36.3,\"prop_sitting_winter\":23.7,\"prop_standing_winter\":30.0,\"lazy_season\":\"summer\",\"lazy_diff\":-12.3,\"stripe1\":1,\"stripe2\":1,\"stripe3\":0,\"cat_name\":\"Luna\"},{\"cat_id\":\"Cat2\",\"prop_active\":1.65,\"prop_lying\":32.45,\"prop_sitting\":36.6,\"prop_standing\":20.4,\"prop_grooming\":4.4,\"prop_littering\":0.0,\"prop_eating\":4.35,\"prop_scratching\":0.15,\"cat_age\":\"Prime\",\"cat_sex\":\"Neutered female\",\"bw\":4.1,\"bcs\":6.0,\"bcs_ord\":\"Overweight\",\"housing\":\"Indoor Outdoor\",\"area\":\"Urban\",\"diet\":\"Mix\",\"coat\":\"Short\",\"owner\":\"Owner12\",\"owner_age\":\"25 - 34 years\",\"children\":\"No\",\"cat1\":\"Two\",\"cat2\":\"Multi\",\"dog\":\"No\",\"pose1_value\":36.6,\"pose1\":\"sitting\",\"pose2_value\":32.45,\"pose2\":\"lying\",\"pose3_value\":20.4,\"pose3\":\"standing\",\"pose_other_value\":22.6,\"prop_lazy\":69.05,\"prop_lazy_summer\":82.7,\"pose1_value_summer\":63.0,\"pose1_summer\":\"sitting\",\"pose2_value_summer\":19.7,\"pose2_summer\":\"lying\",\"pose3_value_summer\":9.0,\"pose3_summer\":\"standing\",\"pose_other_value_summer\":19.0,\"prop_lying_summer\":19.7,\"prop_sitting_summer\":63.0,\"prop_standing_summer\":9.0,\"prop_lazy_winter\":55.4,\"pose1_value_winter\":45.2,\"pose1_winter\":\"lying\",\"pose2_value_winter\":31.8,\"pose2_winter\":\"standing\",\"pose3_value_winter\":10.2,\"pose3_winter\":\"sitting\",\"pose_other_value_winter\":34.4,\"prop_lying_winter\":45.2,\"prop_sitting_winter\":10.2,\"prop_standing_winter\":31.8,\"lazy_season\":\"summer\",\"lazy_diff\":-27.3,\"stripe1\":1,\"stripe2\":0,\"stripe3\":0,\"cat_name\":\"Fluffy\"},{\"cat_id\":\"Cat20\",\"prop_active\":3.4,\"prop_lying\":40.0,\"prop_sitting\":30.9,\"prop_standing\":13.8,\"prop_grooming\":4.8,\"prop_littering\":0.0,\"prop_eating\":6.9,\"prop_scratching\":0.1,\"cat_age\":\"Mature\",\"cat_sex\":\"Neutered female\",\"bw\":5.6,\"bcs\":7.0,\"bcs_ord\":\"Heavy\",\"housing\":\"Indoor Outdoor\",\"area\":\"Rural\",\"diet\":\"Dry\",\"coat\":\"Short\",\"owner\":\"Owner21\",\"owner_age\":\"55 - 65 years\",\"children\":\"Yes\",\"cat1\":\"Two\",\"cat2\":\"Multi\",\"dog\":\"Yes\",\"pose1_value\":40.0,\"pose1\":\"lying\",\"pose2_value\":30.9,\"pose2\":\"sitting\",\"pose3_value\":13.8,\"pose3\":\"standing\",\"pose_other_value\":32.4,\"prop_lazy\":70.9,\"prop_lazy_summer\":75.5,\"pose1_value_summer\":38.3,\"pose1_summer\":\"lying\",\"pose2_value_summer\":37.2,\"pose2_summer\":\"sitting\",\"pose3_value_summer\":9.9,\"pose3_summer\":\"standing\",\"pose_other_value_summer\":41.9,\"prop_lying_summer\":38.3,\"prop_sitting_summer\":37.2,\"prop_standing_summer\":9.9,\"prop_lazy_winter\":66.3,\"pose1_value_winter\":41.7,\"pose1_winter\":\"lying\",\"pose2_value_winter\":24.6,\"pose2_winter\":\"sitting\",\"pose3_value_winter\":17.7,\"pose3_winter\":\"standing\",\"pose_other_value_winter\":22.9,\"prop_lying_winter\":41.7,\"prop_sitting_winter\":24.6,\"prop_standing_winter\":17.7,\"lazy_season\":\"summer\",\"lazy_diff\":-9.2,\"stripe1\":1,\"stripe2\":1,\"stripe3\":0,\"cat_name\":\"Bella\"},{\"cat_id\":\"Cat21\",\"prop_active\":1.4,\"prop_lying\":47.35,\"prop_sitting\":33.95,\"prop_standing\":9.5,\"prop_grooming\":5.05,\"prop_littering\":0.0,\"prop_eating\":2.5,\"prop_scratching\":0.2,\"cat_age\":\"Prime\",\"cat_sex\":\"Neutered female\",\"bw\":4.7,\"bcs\":6.0,\"bcs_ord\":\"Overweight\",\"housing\":\"Indoor Outdoor\",\"area\":\"Urban\",\"diet\":\"Dry\",\"coat\":\"Short\",\"owner\":\"Owner4\",\"owner_age\":\"18 - 24 years\",\"children\":\"Yes\",\"cat1\":\"One\",\"cat2\":\"Single\",\"dog\":\"No\",\"pose1_value\":47.35,\"pose1\":\"lying\",\"pose2_value\":33.95,\"pose2\":\"sitting\",\"pose3_value\":9.5,\"pose3\":\"standing\",\"pose_other_value\":33.65,\"prop_lazy\":81.3,\"prop_lazy_summer\":79.0,\"pose1_value_summer\":47.8,\"pose1_summer\":\"lying\",\"pose2_value_summer\":31.2,\"pose2_summer\":\"sitting\",\"pose3_value_summer\":10.7,\"pose3_summer\":\"standing\",\"pose_other_value_summer\":30.8,\"prop_lying_summer\":47.8,\"prop_sitting_summer\":31.2,\"prop_standing_summer\":10.7,\"prop_lazy_winter\":83.6,\"pose1_value_winter\":46.9,\"pose1_winter\":\"lying\",\"pose2_value_winter\":36.7,\"pose2_winter\":\"sitting\",\"pose3_value_winter\":8.3,\"pose3_winter\":\"standing\",\"pose_other_value_winter\":36.5,\"prop_lying_winter\":46.9,\"prop_sitting_winter\":36.7,\"prop_standing_winter\":8.3,\"lazy_season\":\"winter\",\"lazy_diff\":4.6,\"stripe1\":1,\"stripe2\":0,\"stripe3\":0,\"cat_name\":\"Molly\"},{\"cat_id\":\"Cat22\",\"prop_active\":1.0,\"prop_lying\":25.8,\"prop_sitting\":58.5,\"prop_standing\":8.0,\"prop_grooming\":3.75,\"prop_littering\":0.0,\"prop_eating\":2.9,\"prop_scratching\":0.05,\"cat_age\":\"Prime\",\"cat_sex\":\"Neutered female\",\"bw\":5.6,\"bcs\":6.0,\"bcs_ord\":\"Overweight\",\"housing\":\"Indoor\",\"area\":\"Urban\",\"diet\":\"Dry\",\"coat\":\"Short\",\"owner\":\"Owner17\",\"owner_age\":\"25 - 34 years\",\"children\":\"No\",\"cat1\":\"Three\",\"cat2\":\"Multi\",\"dog\":\"No\",\"pose1_value\":58.5,\"pose1\":\"sitting\",\"pose2_value\":25.8,\"pose2\":\"lying\",\"pose3_value\":8.0,\"pose3\":\"standing\",\"pose_other_value\":25.5,\"prop_lazy\":84.3,\"prop_lazy_summer\":77.7,\"pose1_value_summer\":39.2,\"pose1_summer\":\"sitting\",\"pose2_value_summer\":38.5,\"pose2_summer\":\"lying\",\"pose3_value_summer\":11.0,\"pose3_summer\":\"standing\",\"pose_other_value_summer\":38.8,\"prop_lying_summer\":38.5,\"prop_sitting_summer\":39.2,\"prop_standing_summer\":11.0,\"prop_lazy_winter\":90.9,\"pose1_value_winter\":77.8,\"pose1_winter\":\"sitting\",\"pose2_value_winter\":13.1,\"pose2_winter\":\"lying\",\"pose3_value_winter\":5.0,\"pose3_winter\":\"standing\",\"pose_other_value_winter\":12.2,\"prop_lying_winter\":13.1,\"prop_sitting_winter\":77.8,\"prop_standing_winter\":5.0,\"lazy_season\":\"winter\",\"lazy_diff\":13.2,\"stripe1\":1,\"stripe2\":0,\"stripe3\":0,\"cat_name\":\"Bubbles\"},{\"cat_id\":\"Cat23\",\"prop_active\":2.05,\"prop_lying\":41.35,\"prop_sitting\":28.7,\"prop_standing\":15.25,\"prop_grooming\":5.3,\"prop_littering\":0.05,\"prop_eating\":7.25,\"prop_scratching\":0.05,\"cat_age\":\"Junior\",\"cat_sex\":\"Neutered male\",\"bw\":4.5,\"bcs\":6.0,\"bcs_ord\":\"Overweight\",\"housing\":\"Indoor\",\"area\":\"Urban\",\"diet\":\"Mix\",\"coat\":\"Short\",\"owner\":\"Owner20\",\"owner_age\":\"25 - 34 years\",\"children\":\"No\",\"cat1\":\"One\",\"cat2\":\"Single\",\"dog\":\"No\",\"pose1_value\":41.35,\"pose1\":\"lying\",\"pose2_value\":28.7,\"pose2\":\"sitting\",\"pose3_value\":15.25,\"pose3\":\"standing\",\"pose_other_value\":28.15,\"prop_lazy\":70.05,\"prop_lazy_summer\":69.2,\"pose1_value_summer\":40.9,\"pose1_summer\":\"lying\",\"pose2_value_summer\":28.3,\"pose2_summer\":\"sitting\",\"pose3_value_summer\":16.3,\"pose3_summer\":\"standing\",\"pose_other_value_summer\":26.5,\"prop_lying_summer\":40.9,\"prop_sitting_summer\":28.3,\"prop_standing_summer\":16.3,\"prop_lazy_winter\":70.9,\"pose1_value_winter\":41.8,\"pose1_winter\":\"lying\",\"pose2_value_winter\":29.1,\"pose2_winter\":\"sitting\",\"pose3_value_winter\":14.2,\"pose3_winter\":\"standing\",\"pose_other_value_winter\":29.8,\"prop_lying_winter\":41.8,\"prop_sitting_winter\":29.1,\"prop_standing_winter\":14.2,\"lazy_season\":\"winter\",\"lazy_diff\":1.7,\"stripe1\":1,\"stripe2\":0,\"stripe3\":0,\"cat_name\":\"Marbles\"},{\"cat_id\":\"Cat24\",\"prop_active\":4.0,\"prop_lying\":36.35,\"prop_sitting\":38.2,\"prop_standing\":13.15,\"prop_grooming\":4.35,\"prop_littering\":0.25,\"prop_eating\":3.6,\"prop_scratching\":0.1,\"cat_age\":\"Prime\",\"cat_sex\":\"Neutered male\",\"bw\":4.0,\"bcs\":5.0,\"bcs_ord\":\"Ideal\",\"housing\":\"Indoor Outdoor\",\"area\":\"Urban\",\"diet\":\"Dry\",\"coat\":\"Short\",\"owner\":\"Owner19\",\"owner_age\":\"35  - 44 years\",\"children\":\"Yes\",\"cat1\":\"Three\",\"cat2\":\"Multi\",\"dog\":\"Yes\",\"pose1_value\":38.2,\"pose1\":\"sitting\",\"pose2_value\":36.35,\"pose2\":\"lying\",\"pose3_value\":13.15,\"pose3\":\"standing\",\"pose_other_value\":35.5,\"prop_lazy\":74.55,\"prop_lazy_summer\":75.8,\"pose1_value_summer\":39.0,\"pose1_summer\":\"sitting\",\"pose2_value_summer\":36.8,\"pose2_summer\":\"lying\",\"pose3_value_summer\":10.8,\"pose3_summer\":\"standing\",\"pose_other_value_summer\":39.4,\"prop_lying_summer\":36.8,\"prop_sitting_summer\":39.0,\"prop_standing_summer\":10.8,\"prop_lazy_winter\":73.3,\"pose1_value_winter\":37.4,\"pose1_winter\":\"sitting\",\"pose2_value_winter\":35.9,\"pose2_winter\":\"lying\",\"pose3_value_winter\":15.5,\"pose3_winter\":\"standing\",\"pose_other_value_winter\":31.6,\"prop_lying_winter\":35.9,\"prop_sitting_winter\":37.4,\"prop_standing_winter\":15.5,\"lazy_season\":\"summer\",\"lazy_diff\":-2.5,\"stripe1\":0,\"stripe2\":0,\"stripe3\":0,\"cat_name\":\"Lucky\"},{\"cat_id\":\"Cat25\",\"prop_active\":1.8,\"prop_lying\":29.7,\"prop_sitting\":50.5,\"prop_standing\":8.7,\"prop_grooming\":5.35,\"prop_littering\":0.05,\"prop_eating\":3.7,\"prop_scratching\":0.1,\"cat_age\":\"Mature\",\"cat_sex\":\"Neutered female\",\"bw\":5.4,\"bcs\":8.0,\"bcs_ord\":\"Obese\",\"housing\":\"Indoor\",\"area\":\"Urban\",\"diet\":\"Dry\",\"coat\":\"Short\",\"owner\":\"Owner6\",\"owner_age\":\"25 - 34 years\",\"children\":\"No\",\"cat1\":\"One\",\"cat2\":\"Single\",\"dog\":\"No\",\"pose1_value\":50.5,\"pose1\":\"sitting\",\"pose2_value\":29.7,\"pose2\":\"lying\",\"pose3_value\":8.7,\"pose3\":\"standing\",\"pose_other_value\":32.1,\"prop_lazy\":80.2,\"prop_lazy_summer\":80.3,\"pose1_value_summer\":57.1,\"pose1_summer\":\"sitting\",\"pose2_value_summer\":23.2,\"pose2_summer\":\"lying\",\"pose3_value_summer\":9.2,\"pose3_summer\":\"standing\",\"pose_other_value_summer\":24.5,\"prop_lying_summer\":23.2,\"prop_sitting_summer\":57.1,\"prop_standing_summer\":9.2,\"prop_lazy_winter\":80.1,\"pose1_value_winter\":43.9,\"pose1_winter\":\"sitting\",\"pose2_value_winter\":36.2,\"pose2_winter\":\"lying\",\"pose3_value_winter\":8.2,\"pose3_winter\":\"standing\",\"pose_other_value_winter\":39.7,\"prop_lying_winter\":36.2,\"prop_sitting_winter\":43.9,\"prop_standing_winter\":8.2,\"lazy_season\":\"summer\",\"lazy_diff\":-0.2,\"stripe1\":1,\"stripe2\":1,\"stripe3\":1,\"cat_name\":\"Smudge\"},{\"cat_id\":\"Cat26\",\"prop_active\":3.8,\"prop_lying\":28.25,\"prop_sitting\":37.8,\"prop_standing\":18.85,\"prop_grooming\":6.45,\"prop_littering\":0.0,\"prop_eating\":4.55,\"prop_scratching\":0.15,\"cat_age\":\"Junior\",\"cat_sex\":\"Neutered male\",\"bw\":4.8,\"bcs\":6.0,\"bcs_ord\":\"Overweight\",\"housing\":\"Indoor Outdoor\",\"area\":\"Urban\",\"diet\":\"Dry\",\"coat\":\"Short\",\"owner\":\"Owner23\",\"owner_age\":\"35  - 44 years\",\"children\":\"Yes\",\"cat1\":\"Two\",\"cat2\":\"Multi\",\"dog\":\"No\",\"pose1_value\":37.8,\"pose1\":\"sitting\",\"pose2_value\":28.25,\"pose2\":\"lying\",\"pose3_value\":18.85,\"pose3\":\"standing\",\"pose_other_value\":24.5,\"prop_lazy\":66.05,\"prop_lazy_summer\":63.7,\"pose1_value_summer\":33.2,\"pose1_summer\":\"lying\",\"pose2_value_summer\":30.5,\"pose2_summer\":\"sitting\",\"pose3_value_summer\":17.7,\"pose3_summer\":\"standing\",\"pose_other_value_summer\":31.4,\"prop_lying_summer\":33.2,\"prop_sitting_summer\":30.5,\"prop_standing_summer\":17.7,\"prop_lazy_winter\":68.4,\"pose1_value_winter\":45.1,\"pose1_winter\":\"sitting\",\"pose2_value_winter\":23.3,\"pose2_winter\":\"lying\",\"pose3_value_winter\":20.0,\"pose3_winter\":\"standing\",\"pose_other_value_winter\":14.9,\"prop_lying_winter\":23.3,\"prop_sitting_winter\":45.1,\"prop_standing_winter\":20.0,\"lazy_season\":\"winter\",\"lazy_diff\":4.7,\"stripe1\":1,\"stripe2\":0,\"stripe3\":0,\"cat_name\":\"Oscar\"},{\"cat_id\":\"Cat27\",\"prop_active\":3.15,\"prop_lying\":33.7,\"prop_sitting\":41.95,\"prop_standing\":8.9,\"prop_grooming\":5.15,\"prop_littering\":0.05,\"prop_eating\":6.9,\"prop_scratching\":0.2,\"cat_age\":\"Junior\",\"cat_sex\":\"Neutered male\",\"bw\":4.6,\"bcs\":null,\"bcs_ord\":null,\"housing\":\"Indoor\",\"area\":\"Rural\",\"diet\":\"Mix\",\"coat\":\"Short\",\"owner\":\"Owner10\",\"owner_age\":\"45 - 54 years\",\"children\":\"No\",\"cat1\":\"Two\",\"cat2\":\"Multi\",\"dog\":\"No\",\"pose1_value\":41.95,\"pose1\":\"sitting\",\"pose2_value\":33.7,\"pose2\":\"lying\",\"pose3_value\":8.9,\"pose3\":\"standing\",\"pose_other_value\":40.25,\"prop_lazy\":75.65,\"prop_lazy_summer\":78.5,\"pose1_value_summer\":43.0,\"pose1_summer\":\"sitting\",\"pose2_value_summer\":35.5,\"pose2_summer\":\"lying\",\"pose3_value_summer\":6.2,\"pose3_summer\":\"eating\",\"pose_other_value_summer\":44.6,\"prop_lying_summer\":35.5,\"prop_sitting_summer\":43.0,\"prop_standing_summer\":5.6,\"prop_lazy_winter\":72.8,\"pose1_value_winter\":40.9,\"pose1_winter\":\"sitting\",\"pose2_value_winter\":31.9,\"pose2_winter\":\"lying\",\"pose3_value_winter\":12.2,\"pose3_winter\":\"standing\",\"pose_other_value_winter\":34.7,\"prop_lying_winter\":31.9,\"prop_sitting_winter\":40.9,\"prop_standing_winter\":12.2,\"lazy_season\":\"summer\",\"lazy_diff\":-5.7,\"stripe1\":0,\"stripe2\":0,\"stripe3\":0,\"cat_name\":\"Socks\"},{\"cat_id\":\"Cat28\",\"prop_active\":5.45,\"prop_lying\":33.2,\"prop_sitting\":39.15,\"prop_standing\":11.55,\"prop_grooming\":5.7,\"prop_littering\":0.0,\"prop_eating\":4.8,\"prop_scratching\":0.1,\"cat_age\":\"Junior\",\"cat_sex\":\"Neutered female\",\"bw\":4.4,\"bcs\":7.0,\"bcs_ord\":\"Heavy\",\"housing\":\"Indoor Outdoor\",\"area\":\"Urban\",\"diet\":\"Mix\",\"coat\":\"Short\",\"owner\":\"Owner3\",\"owner_age\":\"25 - 34 years\",\"children\":\"No\",\"cat1\":\"Three\",\"cat2\":\"Multi\",\"dog\":\"No\",\"pose1_value\":39.15,\"pose1\":\"sitting\",\"pose2_value\":33.2,\"pose2\":\"lying\",\"pose3_value\":11.55,\"pose3\":\"standing\",\"pose_other_value\":37.75,\"prop_lazy\":72.35,\"prop_lazy_summer\":73.4,\"pose1_value_summer\":41.0,\"pose1_summer\":\"sitting\",\"pose2_value_summer\":32.4,\"pose2_summer\":\"lying\",\"pose3_value_summer\":11.4,\"pose3_summer\":\"standing\",\"pose_other_value_summer\":36.2,\"prop_lying_summer\":32.4,\"prop_sitting_summer\":41.0,\"prop_standing_summer\":11.4,\"prop_lazy_winter\":71.3,\"pose1_value_winter\":37.3,\"pose1_winter\":\"sitting\",\"pose2_value_winter\":34.0,\"pose2_winter\":\"lying\",\"pose3_value_winter\":11.7,\"pose3_winter\":\"standing\",\"pose_other_value_winter\":39.3,\"prop_lying_winter\":34.0,\"prop_sitting_winter\":37.3,\"prop_standing_winter\":11.7,\"lazy_season\":\"summer\",\"lazy_diff\":-2.1,\"stripe1\":1,\"stripe2\":1,\"stripe3\":0,\"cat_name\":\"Misty\"},{\"cat_id\":\"Cat3\",\"prop_active\":1.15,\"prop_lying\":36.3,\"prop_sitting\":46.25,\"prop_standing\":8.3,\"prop_grooming\":3.45,\"prop_littering\":0.0,\"prop_eating\":4.5,\"prop_scratching\":0.0,\"cat_age\":\"Mature\",\"cat_sex\":\"Neutered female\",\"bw\":4.2,\"bcs\":6.0,\"bcs_ord\":\"Overweight\",\"housing\":\"Indoor\",\"area\":\"Urban\",\"diet\":\"Dry\",\"coat\":\"Long\",\"owner\":\"Owner17\",\"owner_age\":\"25 - 34 years\",\"children\":\"No\",\"cat1\":\"Three\",\"cat2\":\"Multi\",\"dog\":\"No\",\"pose1_value\":46.25,\"pose1\":\"sitting\",\"pose2_value\":36.3,\"pose2\":\"lying\",\"pose3_value\":8.3,\"pose3\":\"standing\",\"pose_other_value\":37.15,\"prop_lazy\":82.55,\"prop_lazy_summer\":83.7,\"pose1_value_summer\":46.6,\"pose1_summer\":\"lying\",\"pose2_value_summer\":37.1,\"pose2_summer\":\"sitting\",\"pose3_value_summer\":7.1,\"pose3_summer\":\"eating\",\"pose_other_value_summer\":39.2,\"prop_lying_summer\":46.6,\"prop_sitting_summer\":37.1,\"prop_standing_summer\":5.7,\"prop_lazy_winter\":81.4,\"pose1_value_winter\":55.4,\"pose1_winter\":\"sitting\",\"pose2_value_winter\":26.0,\"pose2_winter\":\"lying\",\"pose3_value_winter\":10.9,\"pose3_winter\":\"standing\",\"pose_other_value_winter\":22.8,\"prop_lying_winter\":26.0,\"prop_sitting_winter\":55.4,\"prop_standing_winter\":10.9,\"lazy_season\":\"summer\",\"lazy_diff\":-2.3,\"stripe1\":1,\"stripe2\":0,\"stripe3\":0,\"cat_name\":\"Poppy\"},{\"cat_id\":\"Cat4\",\"prop_active\":2.35,\"prop_lying\":52.4,\"prop_sitting\":22.3,\"prop_standing\":9.7,\"prop_grooming\":5.3,\"prop_littering\":0.1,\"prop_eating\":7.7,\"prop_scratching\":0.2,\"cat_age\":\"Mature\",\"cat_sex\":\"Neutered female\",\"bw\":3.4,\"bcs\":5.0,\"bcs_ord\":\"Ideal\",\"housing\":\"Indoor\",\"area\":\"Urban\",\"diet\":\"Mix\",\"coat\":\"Long\",\"owner\":\"Owner11\",\"owner_age\":\"25 - 34 years\",\"children\":\"No\",\"cat1\":\"One\",\"cat2\":\"Single\",\"dog\":\"No\",\"pose1_value\":52.4,\"pose1\":\"lying\",\"pose2_value\":22.3,\"pose2\":\"sitting\",\"pose3_value\":9.7,\"pose3\":\"standing\",\"pose_other_value\":28.2,\"prop_lazy\":74.7,\"prop_lazy_summer\":77.5,\"pose1_value_summer\":54.9,\"pose1_summer\":\"lying\",\"pose2_value_summer\":22.6,\"pose2_summer\":\"sitting\",\"pose3_value_summer\":9.6,\"pose3_summer\":\"standing\",\"pose_other_value_summer\":25.9,\"prop_lying_summer\":54.9,\"prop_sitting_summer\":22.6,\"prop_standing_summer\":9.6,\"prop_lazy_winter\":71.9,\"pose1_value_winter\":49.9,\"pose1_winter\":\"lying\",\"pose2_value_winter\":22.0,\"pose2_winter\":\"sitting\",\"pose3_value_winter\":9.8,\"pose3_winter\":\"standing\",\"pose_other_value_winter\":30.5,\"prop_lying_winter\":49.9,\"prop_sitting_winter\":22.0,\"prop_standing_winter\":9.8,\"lazy_season\":\"summer\",\"lazy_diff\":-5.6,\"stripe1\":0,\"stripe2\":0,\"stripe3\":0,\"cat_name\":\"Fudge\"},{\"cat_id\":\"Cat5\",\"prop_active\":3.65,\"prop_lying\":40.0,\"prop_sitting\":31.5,\"prop_standing\":12.35,\"prop_grooming\":5.85,\"prop_littering\":0.0,\"prop_eating\":6.6,\"prop_scratching\":0.05,\"cat_age\":\"Junior\",\"cat_sex\":\"Neutered male\",\"bw\":5.5,\"bcs\":7.0,\"bcs_ord\":\"Heavy\",\"housing\":\"Indoor\",\"area\":\"Urban\",\"diet\":\"Mix\",\"coat\":\"Short\",\"owner\":\"Owner5\",\"owner_age\":\"25 - 34 years\",\"children\":\"No\",\"cat1\":\"One\",\"cat2\":\"Single\",\"dog\":\"Yes\",\"pose1_value\":40.0,\"pose1\":\"lying\",\"pose2_value\":31.5,\"pose2\":\"sitting\",\"pose3_value\":12.35,\"pose3\":\"standing\",\"pose_other_value\":35.3,\"prop_lazy\":71.5,\"prop_lazy_summer\":77.5,\"pose1_value_summer\":43.6,\"pose1_summer\":\"sitting\",\"pose2_value_summer\":33.9,\"pose2_summer\":\"lying\",\"pose3_value_summer\":8.9,\"pose3_summer\":\"standing\",\"pose_other_value_summer\":38.6,\"prop_lying_summer\":33.9,\"prop_sitting_summer\":43.6,\"prop_standing_summer\":8.9,\"prop_lazy_winter\":65.5,\"pose1_value_winter\":46.1,\"pose1_winter\":\"lying\",\"pose2_value_winter\":19.4,\"pose2_winter\":\"sitting\",\"pose3_value_winter\":15.8,\"pose3_winter\":\"standing\",\"pose_other_value_winter\":22.3,\"prop_lying_winter\":46.1,\"prop_sitting_winter\":19.4,\"prop_standing_winter\":15.8,\"lazy_season\":\"summer\",\"lazy_diff\":-12.0,\"stripe1\":1,\"stripe2\":1,\"stripe3\":0,\"cat_name\":\"Felix\"},{\"cat_id\":\"Cat6\",\"prop_active\":6.8,\"prop_lying\":30.75,\"prop_sitting\":33.9,\"prop_standing\":13.55,\"prop_grooming\":7.95,\"prop_littering\":0.0,\"prop_eating\":6.8,\"prop_scratching\":0.1,\"cat_age\":\"Junior\",\"cat_sex\":\"Neutered female\",\"bw\":null,\"bcs\":null,\"bcs_ord\":null,\"housing\":\"Indoor Outdoor\",\"area\":\"Rural\",\"diet\":\"Dry\",\"coat\":\"Short\",\"owner\":\"Owner7\",\"owner_age\":\"25 - 34 years\",\"children\":\"No\",\"cat1\":\"One\",\"cat2\":\"Single\",\"dog\":\"No\",\"pose1_value\":33.9,\"pose1\":\"sitting\",\"pose2_value\":30.75,\"pose2\":\"lying\",\"pose3_value\":13.55,\"pose3\":\"standing\",\"pose_other_value\":39.0,\"prop_lazy\":64.65,\"prop_lazy_summer\":58.7,\"pose1_value_summer\":32.0,\"pose1_summer\":\"lying\",\"pose2_value_summer\":26.7,\"pose2_summer\":\"sitting\",\"pose3_value_summer\":16.1,\"pose3_summer\":\"standing\",\"pose_other_value_summer\":35.8,\"prop_lying_summer\":32.0,\"prop_sitting_summer\":26.7,\"prop_standing_summer\":16.1,\"prop_lazy_winter\":70.6,\"pose1_value_winter\":41.1,\"pose1_winter\":\"sitting\",\"pose2_value_winter\":29.5,\"pose2_winter\":\"lying\",\"pose3_value_winter\":11.0,\"pose3_winter\":\"standing\",\"pose_other_value_winter\":36.9,\"prop_lying_winter\":29.5,\"prop_sitting_winter\":41.1,\"prop_standing_winter\":11.0,\"lazy_season\":\"winter\",\"lazy_diff\":11.9,\"stripe1\":0,\"stripe2\":0,\"stripe3\":0,\"cat_name\":\"Daisy\"},{\"cat_id\":\"Cat7\",\"prop_active\":1.5,\"prop_lying\":37.0,\"prop_sitting\":36.95,\"prop_standing\":12.45,\"prop_grooming\":8.15,\"prop_littering\":0.0,\"prop_eating\":3.65,\"prop_scratching\":0.2,\"cat_age\":\"Prime\",\"cat_sex\":\"Neutered female\",\"bw\":4.3,\"bcs\":5.0,\"bcs_ord\":\"Ideal\",\"housing\":\"Indoor\",\"area\":\"Urban\",\"diet\":\"Mix\",\"coat\":\"Long\",\"owner\":\"Owner9\",\"owner_age\":\"55 - 65 years\",\"children\":\"No\",\"cat1\":\"Two\",\"cat2\":\"Multi\",\"dog\":\"No\",\"pose1_value\":37.0,\"pose1\":\"lying\",\"pose2_value\":36.95,\"pose2\":\"sitting\",\"pose3_value\":12.45,\"pose3\":\"standing\",\"pose_other_value\":38.1,\"prop_lazy\":73.95,\"prop_lazy_summer\":70.6,\"pose1_value_summer\":36.9,\"pose1_summer\":\"lying\",\"pose2_value_summer\":33.7,\"pose2_summer\":\"sitting\",\"pose3_value_summer\":14.3,\"pose3_summer\":\"standing\",\"pose_other_value_summer\":34.5,\"prop_lying_summer\":36.9,\"prop_sitting_summer\":33.7,\"prop_standing_summer\":14.3,\"prop_lazy_winter\":77.3,\"pose1_value_winter\":40.2,\"pose1_winter\":\"sitting\",\"pose2_value_winter\":37.1,\"pose2_winter\":\"lying\",\"pose3_value_winter\":10.6,\"pose3_winter\":\"standing\",\"pose_other_value_winter\":38.6,\"prop_lying_winter\":37.1,\"prop_sitting_winter\":40.2,\"prop_standing_winter\":10.6,\"lazy_season\":\"winter\",\"lazy_diff\":6.7,\"stripe1\":0,\"stripe2\":0,\"stripe3\":0,\"cat_name\":\"Lily\"},{\"cat_id\":\"Cat8\",\"prop_active\":3.1,\"prop_lying\":18.35,\"prop_sitting\":56.05,\"prop_standing\":11.1,\"prop_grooming\":9.6,\"prop_littering\":0.0,\"prop_eating\":1.4,\"prop_scratching\":0.4,\"cat_age\":\"Junior\",\"cat_sex\":\"Neutered male\",\"bw\":4.4,\"bcs\":null,\"bcs_ord\":null,\"housing\":\"Indoor Outdoor\",\"area\":\"Urban\",\"diet\":\"Dry\",\"coat\":\"Short\",\"owner\":\"Owner22\",\"owner_age\":\"35  - 44 years\",\"children\":\"No\",\"cat1\":\"One\",\"cat2\":\"Single\",\"dog\":\"No\",\"pose1_value\":56.05,\"pose1\":\"sitting\",\"pose2_value\":18.35,\"pose2\":\"lying\",\"pose3_value\":11.1,\"pose3\":\"standing\",\"pose_other_value\":21.75,\"prop_lazy\":74.4,\"prop_lazy_summer\":71.8,\"pose1_value_summer\":57.6,\"pose1_summer\":\"sitting\",\"pose2_value_summer\":14.2,\"pose2_summer\":\"lying\",\"pose3_value_summer\":12.6,\"pose3_summer\":\"grooming\",\"pose_other_value_summer\":17.2,\"prop_lying_summer\":14.2,\"prop_sitting_summer\":57.6,\"prop_standing_summer\":11.9,\"prop_lazy_winter\":77.0,\"pose1_value_winter\":54.5,\"pose1_winter\":\"sitting\",\"pose2_value_winter\":22.5,\"pose2_winter\":\"lying\",\"pose3_value_winter\":10.3,\"pose3_winter\":\"standing\",\"pose_other_value_winter\":24.9,\"prop_lying_winter\":22.5,\"prop_sitting_winter\":54.5,\"prop_standing_winter\":10.3,\"lazy_season\":\"winter\",\"lazy_diff\":5.2,\"stripe1\":0,\"stripe2\":0,\"stripe3\":0,\"cat_name\":\"Buddy\"},{\"cat_id\":\"Cat9\",\"prop_active\":2.8,\"prop_lying\":43.1,\"prop_sitting\":16.25,\"prop_standing\":22.4,\"prop_grooming\":4.85,\"prop_littering\":0.0,\"prop_eating\":10.45,\"prop_scratching\":0.05,\"cat_age\":\"Junior\",\"cat_sex\":\"Neutered female\",\"bw\":4.3,\"bcs\":6.0,\"bcs_ord\":\"Overweight\",\"housing\":\"Indoor Outdoor\",\"area\":\"Urban\",\"diet\":\"Dry\",\"coat\":\"Short\",\"owner\":\"Owner14\",\"owner_age\":\"35  - 44 years\",\"children\":\"Yes\",\"cat1\":\"Three\",\"cat2\":\"Multi\",\"dog\":\"No\",\"pose1_value\":43.1,\"pose1\":\"lying\",\"pose2_value\":22.4,\"pose2\":\"standing\",\"pose3_value\":16.25,\"pose3\":\"sitting\",\"pose_other_value\":24.4,\"prop_lazy\":59.35,\"prop_lazy_summer\":58.2,\"pose1_value_summer\":42.3,\"pose1_summer\":\"lying\",\"pose2_value_summer\":25.9,\"pose2_summer\":\"standing\",\"pose3_value_summer\":15.9,\"pose3_summer\":\"sitting\",\"pose_other_value_summer\":25.9,\"prop_lying_summer\":42.3,\"prop_sitting_summer\":15.9,\"prop_standing_summer\":25.9,\"prop_lazy_winter\":60.5,\"pose1_value_winter\":43.9,\"pose1_winter\":\"lying\",\"pose2_value_winter\":18.9,\"pose2_winter\":\"standing\",\"pose3_value_winter\":16.6,\"pose3_winter\":\"sitting\",\"pose_other_value_winter\":22.9,\"prop_lying_winter\":43.9,\"prop_sitting_winter\":16.6,\"prop_standing_winter\":18.9,\"lazy_season\":\"winter\",\"lazy_diff\":2.3,\"stripe1\":1,\"stripe2\":0,\"stripe3\":0,\"cat_name\":\"Boo\"}]'"
      ]
     },
     "execution_count": 205,
     "metadata": {},
     "output_type": "execute_result"
    }
   ],
   "source": [
    "#export to json\n",
    "df.to_json(orient='records')"
   ]
  },
  {
   "cell_type": "markdown",
   "id": "7dea85c5",
   "metadata": {},
   "source": [
    "### Data checks"
   ]
  },
  {
   "cell_type": "code",
   "execution_count": 71,
   "id": "7bcb4de9",
   "metadata": {},
   "outputs": [
    {
     "data": {
      "text/plain": [
       "103.67999999999999"
      ]
     },
     "execution_count": 71,
     "metadata": {},
     "output_type": "execute_result"
    }
   ],
   "source": [
    "#convert % to hours\n",
    "24/100 * 7.20 #hours\n",
    "24/100 * 7.20 * 60 # minutes"
   ]
  },
  {
   "cell_type": "code",
   "execution_count": 61,
   "id": "95c88ea2",
   "metadata": {},
   "outputs": [
    {
     "data": {
      "text/html": [
       "<div>\n",
       "<style scoped>\n",
       "    .dataframe tbody tr th:only-of-type {\n",
       "        vertical-align: middle;\n",
       "    }\n",
       "\n",
       "    .dataframe tbody tr th {\n",
       "        vertical-align: top;\n",
       "    }\n",
       "\n",
       "    .dataframe thead th {\n",
       "        text-align: right;\n",
       "    }\n",
       "</style>\n",
       "<table border=\"1\" class=\"dataframe\">\n",
       "  <thead>\n",
       "    <tr style=\"text-align: right;\">\n",
       "      <th></th>\n",
       "      <th>cat_id</th>\n",
       "      <th>prop_active</th>\n",
       "      <th>prop_lying</th>\n",
       "      <th>prop_sitting</th>\n",
       "      <th>prop_standing</th>\n",
       "      <th>prop_grooming</th>\n",
       "      <th>prop_littering</th>\n",
       "      <th>prop_eating</th>\n",
       "      <th>prop_scratching</th>\n",
       "      <th>cat_age</th>\n",
       "      <th>...</th>\n",
       "      <th>pose2_winter</th>\n",
       "      <th>pose3_value_winter</th>\n",
       "      <th>pose3_winter</th>\n",
       "      <th>pose_other_value_winter</th>\n",
       "      <th>lazy_season</th>\n",
       "      <th>lazy_diff</th>\n",
       "      <th>stripe1</th>\n",
       "      <th>stripe2</th>\n",
       "      <th>stripe3</th>\n",
       "      <th>cat_name</th>\n",
       "    </tr>\n",
       "  </thead>\n",
       "  <tbody>\n",
       "    <tr>\n",
       "      <th>0</th>\n",
       "      <td>Cat1</td>\n",
       "      <td>3.50</td>\n",
       "      <td>39.95</td>\n",
       "      <td>27.65</td>\n",
       "      <td>12.5</td>\n",
       "      <td>7.20</td>\n",
       "      <td>0.00</td>\n",
       "      <td>9.10</td>\n",
       "      <td>0.15</td>\n",
       "      <td>Junior</td>\n",
       "      <td>...</td>\n",
       "      <td>eating</td>\n",
       "      <td>9.8</td>\n",
       "      <td>standing</td>\n",
       "      <td>18.5</td>\n",
       "      <td>winter</td>\n",
       "      <td>6.2</td>\n",
       "      <td>1</td>\n",
       "      <td>1</td>\n",
       "      <td>0</td>\n",
       "      <td>Inky</td>\n",
       "    </tr>\n",
       "    <tr>\n",
       "      <th>1</th>\n",
       "      <td>Cat10</td>\n",
       "      <td>3.50</td>\n",
       "      <td>40.70</td>\n",
       "      <td>26.40</td>\n",
       "      <td>13.7</td>\n",
       "      <td>6.20</td>\n",
       "      <td>0.10</td>\n",
       "      <td>9.25</td>\n",
       "      <td>0.20</td>\n",
       "      <td>Mature</td>\n",
       "      <td>...</td>\n",
       "      <td>standing</td>\n",
       "      <td>17.3</td>\n",
       "      <td>sitting</td>\n",
       "      <td>20.2</td>\n",
       "      <td>summer</td>\n",
       "      <td>-9.2</td>\n",
       "      <td>1</td>\n",
       "      <td>1</td>\n",
       "      <td>0</td>\n",
       "      <td>Fuzzy</td>\n",
       "    </tr>\n",
       "    <tr>\n",
       "      <th>2</th>\n",
       "      <td>Cat11</td>\n",
       "      <td>3.95</td>\n",
       "      <td>39.05</td>\n",
       "      <td>36.55</td>\n",
       "      <td>9.1</td>\n",
       "      <td>4.85</td>\n",
       "      <td>0.05</td>\n",
       "      <td>6.35</td>\n",
       "      <td>0.10</td>\n",
       "      <td>Junior</td>\n",
       "      <td>...</td>\n",
       "      <td>sitting</td>\n",
       "      <td>11.3</td>\n",
       "      <td>eating</td>\n",
       "      <td>20.9</td>\n",
       "      <td>summer</td>\n",
       "      <td>-6.4</td>\n",
       "      <td>1</td>\n",
       "      <td>1</td>\n",
       "      <td>0</td>\n",
       "      <td>Tilly</td>\n",
       "    </tr>\n",
       "    <tr>\n",
       "      <th>3</th>\n",
       "      <td>Cat12</td>\n",
       "      <td>3.10</td>\n",
       "      <td>36.65</td>\n",
       "      <td>33.60</td>\n",
       "      <td>16.6</td>\n",
       "      <td>4.05</td>\n",
       "      <td>0.00</td>\n",
       "      <td>5.95</td>\n",
       "      <td>0.05</td>\n",
       "      <td>Prime</td>\n",
       "      <td>...</td>\n",
       "      <td>standing</td>\n",
       "      <td>19.9</td>\n",
       "      <td>sitting</td>\n",
       "      <td>19.1</td>\n",
       "      <td>summer</td>\n",
       "      <td>-18.5</td>\n",
       "      <td>0</td>\n",
       "      <td>0</td>\n",
       "      <td>0</td>\n",
       "      <td>Charlie</td>\n",
       "    </tr>\n",
       "    <tr>\n",
       "      <th>4</th>\n",
       "      <td>Cat13</td>\n",
       "      <td>2.40</td>\n",
       "      <td>53.40</td>\n",
       "      <td>17.70</td>\n",
       "      <td>13.8</td>\n",
       "      <td>3.20</td>\n",
       "      <td>0.00</td>\n",
       "      <td>9.50</td>\n",
       "      <td>0.00</td>\n",
       "      <td>Prime</td>\n",
       "      <td>...</td>\n",
       "      <td>sitting</td>\n",
       "      <td>11.0</td>\n",
       "      <td>eating</td>\n",
       "      <td>16.6</td>\n",
       "      <td>winter</td>\n",
       "      <td>3.6</td>\n",
       "      <td>0</td>\n",
       "      <td>0</td>\n",
       "      <td>0</td>\n",
       "      <td>Patches</td>\n",
       "    </tr>\n",
       "  </tbody>\n",
       "</table>\n",
       "<p>5 rows × 54 columns</p>\n",
       "</div>"
      ],
      "text/plain": [
       "  cat_id  prop_active  prop_lying  prop_sitting  prop_standing  prop_grooming  \\\n",
       "0   Cat1         3.50       39.95         27.65           12.5           7.20   \n",
       "1  Cat10         3.50       40.70         26.40           13.7           6.20   \n",
       "2  Cat11         3.95       39.05         36.55            9.1           4.85   \n",
       "3  Cat12         3.10       36.65         33.60           16.6           4.05   \n",
       "4  Cat13         2.40       53.40         17.70           13.8           3.20   \n",
       "\n",
       "   prop_littering  prop_eating  prop_scratching cat_age  ... pose2_winter  \\\n",
       "0            0.00         9.10             0.15  Junior  ...       eating   \n",
       "1            0.10         9.25             0.20  Mature  ...     standing   \n",
       "2            0.05         6.35             0.10  Junior  ...      sitting   \n",
       "3            0.00         5.95             0.05   Prime  ...     standing   \n",
       "4            0.00         9.50             0.00   Prime  ...      sitting   \n",
       "\n",
       "   pose3_value_winter  pose3_winter pose_other_value_winter lazy_season  \\\n",
       "0                 9.8      standing                    18.5      winter   \n",
       "1                17.3       sitting                    20.2      summer   \n",
       "2                11.3        eating                    20.9      summer   \n",
       "3                19.9       sitting                    19.1      summer   \n",
       "4                11.0        eating                    16.6      winter   \n",
       "\n",
       "  lazy_diff stripe1 stripe2 stripe3 cat_name  \n",
       "0       6.2       1       1       0     Inky  \n",
       "1      -9.2       1       1       0    Fuzzy  \n",
       "2      -6.4       1       1       0    Tilly  \n",
       "3     -18.5       0       0       0  Charlie  \n",
       "4       3.6       0       0       0  Patches  \n",
       "\n",
       "[5 rows x 54 columns]"
      ]
     },
     "execution_count": 61,
     "metadata": {},
     "output_type": "execute_result"
    }
   ],
   "source": [
    "df.head()"
   ]
  },
  {
   "cell_type": "code",
   "execution_count": 28,
   "id": "cb8bcbc5",
   "metadata": {},
   "outputs": [
    {
     "data": {
      "text/plain": [
       "Index(['cat_id', 'prop_active', 'prop_lie', 'prop_sit', 'prop_stand',\n",
       "       'prop_groom', 'prop_litter', 'prop_eat', 'prop_scratch', 'cat_age',\n",
       "       'cat_sex', 'bw', 'bcs', 'bcs_ord', 'housing', 'area', 'diet', 'coat',\n",
       "       'owner', 'owner_age', 'children', 'cat1', 'cat2', 'dog', 'pose1_value',\n",
       "       'pose1', 'pose2_value', 'pose2', 'pose3_value', 'pose3',\n",
       "       'pose_other_value', 'prop_lazy', 'prop_lazy_summer',\n",
       "       'pose1_value_summer', 'pose1_summer', 'pose2_value_summer',\n",
       "       'pose2_summer', 'pose3_value_summer', 'pose3_summer',\n",
       "       'pose_other_value_summer', 'prop_lazy_winter', 'pose1_value_winter',\n",
       "       'pose1_winter', 'pose2_value_winter', 'pose2_winter',\n",
       "       'pose3_value_winter', 'pose3_winter', 'pose_other_value_winter',\n",
       "       'lazy_season', 'lazy_diff', 'stripe1', 'stripe2', 'stripe3',\n",
       "       'cat_name'],\n",
       "      dtype='object')"
      ]
     },
     "execution_count": 28,
     "metadata": {},
     "output_type": "execute_result"
    }
   ],
   "source": [
    "df.columns"
   ]
  },
  {
   "cell_type": "code",
   "execution_count": 63,
   "id": "31e4f76e",
   "metadata": {},
   "outputs": [
    {
     "data": {
      "text/plain": [
       "summer    15\n",
       "winter    13\n",
       "Name: lazy_season, dtype: int64"
      ]
     },
     "execution_count": 63,
     "metadata": {},
     "output_type": "execute_result"
    }
   ],
   "source": [
    "df[\"lazy_season\"].value_counts()"
   ]
  },
  {
   "cell_type": "code",
   "execution_count": 71,
   "id": "cac49995",
   "metadata": {},
   "outputs": [
    {
     "data": {
      "text/plain": [
       "stripe1    17\n",
       "stripe2     8\n",
       "stripe3     1\n",
       "dtype: int64"
      ]
     },
     "execution_count": 71,
     "metadata": {},
     "output_type": "execute_result"
    }
   ],
   "source": [
    "df[['stripe1', 'stripe2', 'stripe3']].sum()"
   ]
  },
  {
   "cell_type": "code",
   "execution_count": 53,
   "id": "cbc1f534",
   "metadata": {},
   "outputs": [
    {
     "data": {
      "text/plain": [
       "pose1        pose2         pose3       \n",
       "propSitting  propLying     propStanding    14\n",
       "propLying    propSitting   propStanding    13\n",
       "             propStanding  propSitting      1\n",
       "dtype: int64"
      ]
     },
     "execution_count": 53,
     "metadata": {},
     "output_type": "execute_result"
    }
   ],
   "source": [
    "df[[\"pose1\", \"pose2\", \"pose3\"]].value_counts()"
   ]
  },
  {
   "cell_type": "code",
   "execution_count": 54,
   "id": "86b529f5",
   "metadata": {},
   "outputs": [
    {
     "data": {
      "text/plain": [
       "pose1_winter  pose2_winter  pose3_winter\n",
       "propSitting   propLying     propStanding    14\n",
       "propLying     propSitting   propStanding     6\n",
       "              propStanding  propSitting      5\n",
       "              propSitting   propEating       2\n",
       "              propEating    propStanding     1\n",
       "dtype: int64"
      ]
     },
     "execution_count": 54,
     "metadata": {},
     "output_type": "execute_result"
    }
   ],
   "source": [
    "df[[\"pose1_winter\", \"pose2_winter\", \"pose3_winter\"]].value_counts()"
   ]
  },
  {
   "cell_type": "code",
   "execution_count": 55,
   "id": "a6a05c9a",
   "metadata": {},
   "outputs": [
    {
     "data": {
      "text/plain": [
       "pose1_summer  pose2_summer  pose3_summer\n",
       "propLying     propSitting   propStanding    12\n",
       "propSitting   propLying     propStanding    10\n",
       "                            propGrooming     2\n",
       "propLying     propSitting   propEating       1\n",
       "                            propGrooming     1\n",
       "              propStanding  propSitting      1\n",
       "propSitting   propLying     propEating       1\n",
       "dtype: int64"
      ]
     },
     "execution_count": 55,
     "metadata": {},
     "output_type": "execute_result"
    }
   ],
   "source": [
    "df[[\"pose1_summer\", \"pose2_summer\", \"pose3_summer\"]].value_counts()"
   ]
  },
  {
   "cell_type": "code",
   "execution_count": 161,
   "id": "1c4c9fc8",
   "metadata": {},
   "outputs": [
    {
     "data": {
      "text/plain": [
       "count    28.000000\n",
       "mean     73.307143\n",
       "std       5.931003\n",
       "min      59.350000\n",
       "25%      69.800000\n",
       "50%      74.175000\n",
       "75%      76.987500\n",
       "max      84.300000\n",
       "Name: propLazy, dtype: float64"
      ]
     },
     "execution_count": 161,
     "metadata": {},
     "output_type": "execute_result"
    }
   ],
   "source": [
    "df[\"propLazy\"].describe()"
   ]
  },
  {
   "cell_type": "markdown",
   "id": "d20ab07c",
   "metadata": {},
   "source": [
    "## Exploration"
   ]
  },
  {
   "cell_type": "code",
   "execution_count": 74,
   "id": "09a1ae92",
   "metadata": {},
   "outputs": [
    {
     "data": {
      "text/plain": [
       "Index(['Cat_id', 'propActive', 'propLying', 'propSitting', 'propStanding',\n",
       "       'propGrooming', 'propLittering', 'propEating', 'propScratching',\n",
       "       'Cat_Age', 'Cat_Sex', 'BW', 'BCS', 'BCS_ord', 'Housing', 'Area', 'Diet',\n",
       "       'Coat', 'Owner', 'Owner_Age', 'Children', 'Cat1', 'Cat2', 'Dog',\n",
       "       'pose1_value', 'pose1', 'pose2_value', 'pose2', 'pose3_value', 'pose3',\n",
       "       'pose_other_value', 'propLazy', 'propLazy_summer', 'pose1_value_summer',\n",
       "       'pose1_summer', 'pose2_value_summer', 'pose2_summer',\n",
       "       'pose3_value_summer', 'pose3_summer', 'pose_other_value_summer',\n",
       "       'propLazy_winter', 'pose1_value_winter', 'pose1_winter',\n",
       "       'pose2_value_winter', 'pose2_winter', 'pose3_value_winter',\n",
       "       'pose3_winter', 'pose_other_value_winter', 'lazy_season', 'stripe1',\n",
       "       'stripe2', 'stripe3'],\n",
       "      dtype='object')"
      ]
     },
     "execution_count": 74,
     "metadata": {},
     "output_type": "execute_result"
    }
   ],
   "source": [
    "df.columns"
   ]
  },
  {
   "cell_type": "markdown",
   "id": "010d8413",
   "metadata": {},
   "source": [
    "### Lily profile"
   ]
  },
  {
   "cell_type": "code",
   "execution_count": 206,
   "id": "fbd35a8b",
   "metadata": {},
   "outputs": [
    {
     "data": {
      "text/plain": [
       "25    Cat7\n",
       "Name: cat_id, dtype: object"
      ]
     },
     "execution_count": 206,
     "metadata": {},
     "output_type": "execute_result"
    }
   ],
   "source": [
    "id = df[df[\"prop_lazy\"] == df[\"prop_lazy\"].sort_values().reset_index(drop=True)[13]][\"cat_id\"]\n",
    "id"
   ]
  },
  {
   "cell_type": "code",
   "execution_count": 225,
   "id": "22410ffe",
   "metadata": {},
   "outputs": [
    {
     "data": {
      "text/html": [
       "<div>\n",
       "<style scoped>\n",
       "    .dataframe tbody tr th:only-of-type {\n",
       "        vertical-align: middle;\n",
       "    }\n",
       "\n",
       "    .dataframe tbody tr th {\n",
       "        vertical-align: top;\n",
       "    }\n",
       "\n",
       "    .dataframe thead th {\n",
       "        text-align: right;\n",
       "    }\n",
       "</style>\n",
       "<table border=\"1\" class=\"dataframe\">\n",
       "  <thead>\n",
       "    <tr style=\"text-align: right;\">\n",
       "      <th></th>\n",
       "      <th>value</th>\n",
       "      <th>position</th>\n",
       "      <th>season</th>\n",
       "    </tr>\n",
       "  </thead>\n",
       "  <tbody>\n",
       "    <tr>\n",
       "      <th>0</th>\n",
       "      <td>37.00</td>\n",
       "      <td>lying</td>\n",
       "      <td>average</td>\n",
       "    </tr>\n",
       "    <tr>\n",
       "      <th>1</th>\n",
       "      <td>36.95</td>\n",
       "      <td>sitting</td>\n",
       "      <td>average</td>\n",
       "    </tr>\n",
       "    <tr>\n",
       "      <th>2</th>\n",
       "      <td>12.45</td>\n",
       "      <td>standing</td>\n",
       "      <td>average</td>\n",
       "    </tr>\n",
       "    <tr>\n",
       "      <th>3</th>\n",
       "      <td>36.90</td>\n",
       "      <td>lying</td>\n",
       "      <td>summer</td>\n",
       "    </tr>\n",
       "    <tr>\n",
       "      <th>4</th>\n",
       "      <td>33.70</td>\n",
       "      <td>sitting</td>\n",
       "      <td>summer</td>\n",
       "    </tr>\n",
       "    <tr>\n",
       "      <th>5</th>\n",
       "      <td>14.30</td>\n",
       "      <td>standing</td>\n",
       "      <td>summer</td>\n",
       "    </tr>\n",
       "    <tr>\n",
       "      <th>6</th>\n",
       "      <td>37.10</td>\n",
       "      <td>lying</td>\n",
       "      <td>winter</td>\n",
       "    </tr>\n",
       "    <tr>\n",
       "      <th>7</th>\n",
       "      <td>40.20</td>\n",
       "      <td>sitting</td>\n",
       "      <td>winter</td>\n",
       "    </tr>\n",
       "    <tr>\n",
       "      <th>8</th>\n",
       "      <td>10.60</td>\n",
       "      <td>standing</td>\n",
       "      <td>winter</td>\n",
       "    </tr>\n",
       "  </tbody>\n",
       "</table>\n",
       "</div>"
      ],
      "text/plain": [
       "   value  position   season\n",
       "0  37.00     lying  average\n",
       "1  36.95   sitting  average\n",
       "2  12.45  standing  average\n",
       "3  36.90     lying   summer\n",
       "4  33.70   sitting   summer\n",
       "5  14.30  standing   summer\n",
       "6  37.10     lying   winter\n",
       "7  40.20   sitting   winter\n",
       "8  10.60  standing   winter"
      ]
     },
     "execution_count": 225,
     "metadata": {},
     "output_type": "execute_result"
    }
   ],
   "source": [
    "lily = df[df[\"cat_id\"]==\"Cat7\"][['prop_lying', 'prop_sitting', 'prop_standing', 'prop_lying_summer', 'prop_sitting_summer',\n",
    "       'prop_standing_summer', 'prop_lying_winter', 'prop_sitting_winter', 'prop_standing_winter']].transpose().reset_index()\n",
    "lily[\"position\"] = lily[\"index\"].str.split(\"_\").str[1]\n",
    "lily[\"season\"] = [i[-1] if len(i)==3 else \"average\" for i in lily[\"index\"].str.split(\"_\")]\n",
    "lily = lily.drop(columns=[\"index\"]).rename(columns={25: \"value\"})\n",
    "lily"
   ]
  },
  {
   "cell_type": "code",
   "execution_count": 229,
   "id": "58ca2790",
   "metadata": {},
   "outputs": [
    {
     "data": {
      "text/plain": [
       "'{\"0\":{\"value\":37.0,\"position\":\"lying\",\"season\":\"average\"},\"1\":{\"value\":36.95,\"position\":\"sitting\",\"season\":\"average\"},\"2\":{\"value\":12.45,\"position\":\"standing\",\"season\":\"average\"},\"3\":{\"value\":36.9,\"position\":\"lying\",\"season\":\"summer\"},\"4\":{\"value\":33.7,\"position\":\"sitting\",\"season\":\"summer\"},\"5\":{\"value\":14.3,\"position\":\"standing\",\"season\":\"summer\"},\"6\":{\"value\":37.1,\"position\":\"lying\",\"season\":\"winter\"},\"7\":{\"value\":40.2,\"position\":\"sitting\",\"season\":\"winter\"},\"8\":{\"value\":10.6,\"position\":\"standing\",\"season\":\"winter\"}}'"
      ]
     },
     "execution_count": 229,
     "metadata": {},
     "output_type": "execute_result"
    }
   ],
   "source": [
    "lily.to_json(orient=\"index\")"
   ]
  },
  {
   "cell_type": "code",
   "execution_count": 207,
   "id": "ccf5cf7b",
   "metadata": {},
   "outputs": [
    {
     "data": {
      "text/html": [
       "<div>\n",
       "<style scoped>\n",
       "    .dataframe tbody tr th:only-of-type {\n",
       "        vertical-align: middle;\n",
       "    }\n",
       "\n",
       "    .dataframe tbody tr th {\n",
       "        vertical-align: top;\n",
       "    }\n",
       "\n",
       "    .dataframe thead th {\n",
       "        text-align: right;\n",
       "    }\n",
       "</style>\n",
       "<table border=\"1\" class=\"dataframe\">\n",
       "  <thead>\n",
       "    <tr style=\"text-align: right;\">\n",
       "      <th></th>\n",
       "      <th>25</th>\n",
       "    </tr>\n",
       "  </thead>\n",
       "  <tbody>\n",
       "    <tr>\n",
       "      <th>cat_id</th>\n",
       "      <td>Cat7</td>\n",
       "    </tr>\n",
       "    <tr>\n",
       "      <th>prop_active</th>\n",
       "      <td>1.5</td>\n",
       "    </tr>\n",
       "    <tr>\n",
       "      <th>prop_lying</th>\n",
       "      <td>37.0</td>\n",
       "    </tr>\n",
       "    <tr>\n",
       "      <th>prop_sitting</th>\n",
       "      <td>36.95</td>\n",
       "    </tr>\n",
       "    <tr>\n",
       "      <th>prop_standing</th>\n",
       "      <td>12.45</td>\n",
       "    </tr>\n",
       "    <tr>\n",
       "      <th>prop_grooming</th>\n",
       "      <td>8.15</td>\n",
       "    </tr>\n",
       "    <tr>\n",
       "      <th>prop_littering</th>\n",
       "      <td>0.0</td>\n",
       "    </tr>\n",
       "    <tr>\n",
       "      <th>prop_eating</th>\n",
       "      <td>3.65</td>\n",
       "    </tr>\n",
       "    <tr>\n",
       "      <th>prop_scratching</th>\n",
       "      <td>0.2</td>\n",
       "    </tr>\n",
       "    <tr>\n",
       "      <th>cat_age</th>\n",
       "      <td>Prime</td>\n",
       "    </tr>\n",
       "    <tr>\n",
       "      <th>cat_sex</th>\n",
       "      <td>Neutered female</td>\n",
       "    </tr>\n",
       "    <tr>\n",
       "      <th>bw</th>\n",
       "      <td>4.3</td>\n",
       "    </tr>\n",
       "    <tr>\n",
       "      <th>bcs</th>\n",
       "      <td>5.0</td>\n",
       "    </tr>\n",
       "    <tr>\n",
       "      <th>bcs_ord</th>\n",
       "      <td>Ideal</td>\n",
       "    </tr>\n",
       "    <tr>\n",
       "      <th>housing</th>\n",
       "      <td>Indoor</td>\n",
       "    </tr>\n",
       "    <tr>\n",
       "      <th>area</th>\n",
       "      <td>Urban</td>\n",
       "    </tr>\n",
       "    <tr>\n",
       "      <th>diet</th>\n",
       "      <td>Mix</td>\n",
       "    </tr>\n",
       "    <tr>\n",
       "      <th>coat</th>\n",
       "      <td>Long</td>\n",
       "    </tr>\n",
       "    <tr>\n",
       "      <th>owner</th>\n",
       "      <td>Owner9</td>\n",
       "    </tr>\n",
       "    <tr>\n",
       "      <th>owner_age</th>\n",
       "      <td>55 - 65 years</td>\n",
       "    </tr>\n",
       "    <tr>\n",
       "      <th>children</th>\n",
       "      <td>No</td>\n",
       "    </tr>\n",
       "    <tr>\n",
       "      <th>cat1</th>\n",
       "      <td>Two</td>\n",
       "    </tr>\n",
       "    <tr>\n",
       "      <th>cat2</th>\n",
       "      <td>Multi</td>\n",
       "    </tr>\n",
       "    <tr>\n",
       "      <th>dog</th>\n",
       "      <td>No</td>\n",
       "    </tr>\n",
       "    <tr>\n",
       "      <th>pose1_value</th>\n",
       "      <td>37.0</td>\n",
       "    </tr>\n",
       "    <tr>\n",
       "      <th>pose1</th>\n",
       "      <td>lying</td>\n",
       "    </tr>\n",
       "    <tr>\n",
       "      <th>pose2_value</th>\n",
       "      <td>36.95</td>\n",
       "    </tr>\n",
       "    <tr>\n",
       "      <th>pose2</th>\n",
       "      <td>sitting</td>\n",
       "    </tr>\n",
       "    <tr>\n",
       "      <th>pose3_value</th>\n",
       "      <td>12.45</td>\n",
       "    </tr>\n",
       "    <tr>\n",
       "      <th>pose3</th>\n",
       "      <td>standing</td>\n",
       "    </tr>\n",
       "    <tr>\n",
       "      <th>pose_other_value</th>\n",
       "      <td>38.1</td>\n",
       "    </tr>\n",
       "    <tr>\n",
       "      <th>prop_lazy</th>\n",
       "      <td>73.95</td>\n",
       "    </tr>\n",
       "    <tr>\n",
       "      <th>prop_lazy_summer</th>\n",
       "      <td>70.6</td>\n",
       "    </tr>\n",
       "    <tr>\n",
       "      <th>pose1_value_summer</th>\n",
       "      <td>36.9</td>\n",
       "    </tr>\n",
       "    <tr>\n",
       "      <th>pose1_summer</th>\n",
       "      <td>lying</td>\n",
       "    </tr>\n",
       "    <tr>\n",
       "      <th>pose2_value_summer</th>\n",
       "      <td>33.7</td>\n",
       "    </tr>\n",
       "    <tr>\n",
       "      <th>pose2_summer</th>\n",
       "      <td>sitting</td>\n",
       "    </tr>\n",
       "    <tr>\n",
       "      <th>pose3_value_summer</th>\n",
       "      <td>14.3</td>\n",
       "    </tr>\n",
       "    <tr>\n",
       "      <th>pose3_summer</th>\n",
       "      <td>standing</td>\n",
       "    </tr>\n",
       "    <tr>\n",
       "      <th>pose_other_value_summer</th>\n",
       "      <td>34.5</td>\n",
       "    </tr>\n",
       "    <tr>\n",
       "      <th>prop_lying_summer</th>\n",
       "      <td>36.9</td>\n",
       "    </tr>\n",
       "    <tr>\n",
       "      <th>prop_sitting_summer</th>\n",
       "      <td>33.7</td>\n",
       "    </tr>\n",
       "    <tr>\n",
       "      <th>prop_standing_summer</th>\n",
       "      <td>14.3</td>\n",
       "    </tr>\n",
       "    <tr>\n",
       "      <th>prop_lazy_winter</th>\n",
       "      <td>77.3</td>\n",
       "    </tr>\n",
       "    <tr>\n",
       "      <th>pose1_value_winter</th>\n",
       "      <td>40.2</td>\n",
       "    </tr>\n",
       "    <tr>\n",
       "      <th>pose1_winter</th>\n",
       "      <td>sitting</td>\n",
       "    </tr>\n",
       "    <tr>\n",
       "      <th>pose2_value_winter</th>\n",
       "      <td>37.1</td>\n",
       "    </tr>\n",
       "    <tr>\n",
       "      <th>pose2_winter</th>\n",
       "      <td>lying</td>\n",
       "    </tr>\n",
       "    <tr>\n",
       "      <th>pose3_value_winter</th>\n",
       "      <td>10.6</td>\n",
       "    </tr>\n",
       "    <tr>\n",
       "      <th>pose3_winter</th>\n",
       "      <td>standing</td>\n",
       "    </tr>\n",
       "    <tr>\n",
       "      <th>pose_other_value_winter</th>\n",
       "      <td>38.6</td>\n",
       "    </tr>\n",
       "    <tr>\n",
       "      <th>prop_lying_winter</th>\n",
       "      <td>37.1</td>\n",
       "    </tr>\n",
       "    <tr>\n",
       "      <th>prop_sitting_winter</th>\n",
       "      <td>40.2</td>\n",
       "    </tr>\n",
       "    <tr>\n",
       "      <th>prop_standing_winter</th>\n",
       "      <td>10.6</td>\n",
       "    </tr>\n",
       "    <tr>\n",
       "      <th>lazy_season</th>\n",
       "      <td>winter</td>\n",
       "    </tr>\n",
       "    <tr>\n",
       "      <th>lazy_diff</th>\n",
       "      <td>6.7</td>\n",
       "    </tr>\n",
       "    <tr>\n",
       "      <th>stripe1</th>\n",
       "      <td>0</td>\n",
       "    </tr>\n",
       "    <tr>\n",
       "      <th>stripe2</th>\n",
       "      <td>0</td>\n",
       "    </tr>\n",
       "    <tr>\n",
       "      <th>stripe3</th>\n",
       "      <td>0</td>\n",
       "    </tr>\n",
       "    <tr>\n",
       "      <th>cat_name</th>\n",
       "      <td>Lily</td>\n",
       "    </tr>\n",
       "  </tbody>\n",
       "</table>\n",
       "</div>"
      ],
      "text/plain": [
       "                                      25\n",
       "cat_id                              Cat7\n",
       "prop_active                          1.5\n",
       "prop_lying                          37.0\n",
       "prop_sitting                       36.95\n",
       "prop_standing                      12.45\n",
       "prop_grooming                       8.15\n",
       "prop_littering                       0.0\n",
       "prop_eating                         3.65\n",
       "prop_scratching                      0.2\n",
       "cat_age                            Prime\n",
       "cat_sex                  Neutered female\n",
       "bw                                   4.3\n",
       "bcs                                  5.0\n",
       "bcs_ord                            Ideal\n",
       "housing                           Indoor\n",
       "area                               Urban\n",
       "diet                                 Mix\n",
       "coat                                Long\n",
       "owner                             Owner9\n",
       "owner_age                  55 - 65 years\n",
       "children                              No\n",
       "cat1                                 Two\n",
       "cat2                               Multi\n",
       "dog                                   No\n",
       "pose1_value                         37.0\n",
       "pose1                              lying\n",
       "pose2_value                        36.95\n",
       "pose2                            sitting\n",
       "pose3_value                        12.45\n",
       "pose3                           standing\n",
       "pose_other_value                    38.1\n",
       "prop_lazy                          73.95\n",
       "prop_lazy_summer                    70.6\n",
       "pose1_value_summer                  36.9\n",
       "pose1_summer                       lying\n",
       "pose2_value_summer                  33.7\n",
       "pose2_summer                     sitting\n",
       "pose3_value_summer                  14.3\n",
       "pose3_summer                    standing\n",
       "pose_other_value_summer             34.5\n",
       "prop_lying_summer                   36.9\n",
       "prop_sitting_summer                 33.7\n",
       "prop_standing_summer                14.3\n",
       "prop_lazy_winter                    77.3\n",
       "pose1_value_winter                  40.2\n",
       "pose1_winter                     sitting\n",
       "pose2_value_winter                  37.1\n",
       "pose2_winter                       lying\n",
       "pose3_value_winter                  10.6\n",
       "pose3_winter                    standing\n",
       "pose_other_value_winter             38.6\n",
       "prop_lying_winter                   37.1\n",
       "prop_sitting_winter                 40.2\n",
       "prop_standing_winter                10.6\n",
       "lazy_season                       winter\n",
       "lazy_diff                            6.7\n",
       "stripe1                                0\n",
       "stripe2                                0\n",
       "stripe3                                0\n",
       "cat_name                            Lily"
      ]
     },
     "execution_count": 207,
     "metadata": {},
     "output_type": "execute_result"
    }
   ],
   "source": [
    "df[df[\"cat_id\"]==\"Cat7\"].transpose()"
   ]
  },
  {
   "cell_type": "markdown",
   "id": "5ce80324",
   "metadata": {},
   "source": [
    "### Dotplots"
   ]
  },
  {
   "cell_type": "code",
   "execution_count": 119,
   "id": "57661f24",
   "metadata": {},
   "outputs": [
    {
     "data": {
      "text/plain": [
       "prop_lying         36.708929\n",
       "prop_sitting       36.598214\n",
       "prop_standing      12.714286\n",
       "prop_grooming       5.483929\n",
       "prop_eating         5.482143\n",
       "prop_littering      0.026786\n",
       "prop_scratching     0.121429\n",
       "dtype: float64"
      ]
     },
     "execution_count": 119,
     "metadata": {},
     "output_type": "execute_result"
    }
   ],
   "source": [
    "df[['prop_lying', 'prop_sitting', 'prop_standing',\n",
    "    'prop_grooming', 'prop_eating', 'prop_littering',  'prop_scratching']].mean()"
   ]
  },
  {
   "cell_type": "code",
   "execution_count": 148,
   "id": "f491584e",
   "metadata": {},
   "outputs": [
    {
     "data": {
      "text/plain": [
       "<matplotlib.collections.PathCollection at 0x1aae68d3670>"
      ]
     },
     "execution_count": 148,
     "metadata": {},
     "output_type": "execute_result"
    },
    {
     "data": {
      "image/png": "[encoded data removed]",
      "text/plain": [
       "<Figure size 576x432 with 1 Axes>"
      ]
     },
     "metadata": {
      "needs_background": "light"
     },
     "output_type": "display_data"
    }
   ],
   "source": [
    "cols_analysis = ['prop_lying', 'prop_sitting', 'prop_standing',\n",
    "       'prop_grooming', 'prop_eating', 'prop_littering',  'prop_scratching']\n",
    "df_long = pd.melt(\n",
    "    df, id_vars='cat_id',\n",
    "    value_vars=cols_analysis,\n",
    "    var_name='variable', value_name='value'\n",
    ")\n",
    "avg = df[cols_analysis].median().values\n",
    "lily = df[df[\"cat_name\"]==\"Lily\"][cols_analysis]\n",
    "\n",
    "#plot -------------\n",
    "fig, ax = plt.subplots(figsize=(8,6))\n",
    "\n",
    "ax.scatter(avg, [i+0.2 for i in [0, 1, 2, 3, 4, 5, 6]], marker=\"^\", color=\"black\", s=20)\n",
    "sns.stripplot(\n",
    "    data=df_long, x=\"value\", y='variable', \n",
    "    jitter=0, s=12, marker=\"o\", linewidth=0.5, alpha=.55,\n",
    "    edgecolor=\"#333333\", zorder=1, ax=ax, palette=\"cool\"\n",
    ")\n",
    "for pos in [\"top\", \"left\", \"right\", \"bottom\"]:\n",
    "    ax.spines[pos].set_visible(False)\n",
    "\n",
    "\n",
    "ax.scatter(lily.values, [0, 1, 2, 3, 4, 5, 6], marker=\"o\", color=\"None\",s=190, edgecolor=\"black\")"
   ]
  },
  {
   "cell_type": "markdown",
   "id": "faf241a8",
   "metadata": {},
   "source": [
    "### Flow chart"
   ]
  },
  {
   "cell_type": "code",
   "execution_count": 159,
   "id": "3913929e",
   "metadata": {},
   "outputs": [
    {
     "data": {
      "image/png": "[encoded data removed]",
      "text/plain": [
       "<Figure size 432x432 with 1 Axes>"
      ]
     },
     "metadata": {
      "needs_background": "light"
     },
     "output_type": "display_data"
    }
   ],
   "source": [
    "from pySankey.sankey import sankey\n",
    "\n",
    "colors = {\n",
    "    \"lying\": \"#f71b1b\",\n",
    "    \"sitting\": \"#1b7ef7\",\n",
    "    \"standing\": \"#f3f71b\",\n",
    "    \"grooming\": \"#12e23f\",\n",
    "    \"eating\": \"#f78c1b\"\n",
    "}\n",
    "\n",
    "sankey(df[\"pose1\"], df[\"pose2\"], aspect=20, colorDict=colors, fontsize=12)"
   ]
  },
  {
   "cell_type": "code",
   "execution_count": 177,
   "id": "c4bbb8f8",
   "metadata": {},
   "outputs": [
    {
     "data": {
      "text/plain": [
       "pose2     pose3   \n",
       "lying     standing    14\n",
       "sitting   standing    13\n",
       "standing  sitting      1\n",
       "dtype: int64"
      ]
     },
     "execution_count": 177,
     "metadata": {},
     "output_type": "execute_result"
    }
   ],
   "source": [
    "df[[\"pose2\",\"pose3\"]].value_counts()"
   ]
  },
  {
   "cell_type": "code",
   "execution_count": null,
   "id": "f5aa4396",
   "metadata": {},
   "outputs": [
    {
     "data": {
      "application/vnd.plotly.v1+json": {
       "config": {
        "plotlyServerURL": "https://plot.ly"
       },
       "data": [
        {
         "link": {
          "source": [
           1,
           0,
           0,
           2,
           3,
           4
          ],
          "target": [
           2,
           3,
           4,
           5,
           5,
           6
          ],
          "value": [
           14,
           13,
           1,
           14,
           13,
           1
          ]
         },
         "node": {
          "label": [
           "lying",
           "sitting",
           "lying",
           "sitting",
           "standing",
           "standing",
           "sitting"
          ]
         },
         "type": "sankey"
        }
       ],
       "layout": {
        "template": {
         "data": {
          "bar": [
           {
            "error_x": {
             "color": "#2a3f5f"
            },
            "error_y": {
             "color": "#2a3f5f"
            },
            "marker": {
             "line": {
              "color": "#E5ECF6",
              "width": 0.5
             },
             "pattern": {
              "fillmode": "overlay",
              "size": 10,
              "solidity": 0.2
             }
            },
            "type": "bar"
           }
          ],
          "barpolar": [
           {
            "marker": {
             "line": {
              "color": "#E5ECF6",
              "width": 0.5
             },
             "pattern": {
              "fillmode": "overlay",
              "size": 10,
              "solidity": 0.2
             }
            },
            "type": "barpolar"
           }
          ],
          "carpet": [
           {
            "aaxis": {
             "endlinecolor": "#2a3f5f",
             "gridcolor": "white",
             "linecolor": "white",
             "minorgridcolor": "white",
             "startlinecolor": "#2a3f5f"
            },
            "baxis": {
             "endlinecolor": "#2a3f5f",
             "gridcolor": "white",
             "linecolor": "white",
             "minorgridcolor": "white",
             "startlinecolor": "#2a3f5f"
            },
            "type": "carpet"
           }
          ],
          "choropleth": [
           {
            "colorbar": {
             "outlinewidth": 0,
             "ticks": ""
            },
            "type": "choropleth"
           }
          ],
          "contour": [
           {
            "colorbar": {
             "outlinewidth": 0,
             "ticks": ""
            },
            "colorscale": [
             [
              0,
              "#0d0887"
             ],
             [
              0.1111111111111111,
              "#46039f"
             ],
             [
              0.2222222222222222,
              "#7201a8"
             ],
             [
              0.3333333333333333,
              "#9c179e"
             ],
             [
              0.4444444444444444,
              "#bd3786"
             ],
             [
              0.5555555555555556,
              "#d8576b"
             ],
             [
              0.6666666666666666,
              "#ed7953"
             ],
             [
              0.7777777777777778,
              "#fb9f3a"
             ],
             [
              0.8888888888888888,
              "#fdca26"
             ],
             [
              1,
              "#f0f921"
             ]
            ],
            "type": "contour"
           }
          ],
          "contourcarpet": [
           {
            "colorbar": {
             "outlinewidth": 0,
             "ticks": ""
            },
            "type": "contourcarpet"
           }
          ],
          "heatmap": [
           {
            "colorbar": {
             "outlinewidth": 0,
             "ticks": ""
            },
            "colorscale": [
             [
              0,
              "#0d0887"
             ],
             [
              0.1111111111111111,
              "#46039f"
             ],
             [
              0.2222222222222222,
              "#7201a8"
             ],
             [
              0.3333333333333333,
              "#9c179e"
             ],
             [
              0.4444444444444444,
              "#bd3786"
             ],
             [
              0.5555555555555556,
              "#d8576b"
             ],
             [
              0.6666666666666666,
              "#ed7953"
             ],
             [
              0.7777777777777778,
              "#fb9f3a"
             ],
             [
              0.8888888888888888,
              "#fdca26"
             ],
             [
              1,
              "#f0f921"
             ]
            ],
            "type": "heatmap"
           }
          ],
          "histogram": [
           {
            "marker": {
             "pattern": {
              "fillmode": "overlay",
              "size": 10,
              "solidity": 0.2
             }
            },
            "type": "histogram"
           }
          ],
          "histogram2d": [
           {
            "colorbar": {
             "outlinewidth": 0,
             "ticks": ""
            },
            "colorscale": [
             [
              0,
              "#0d0887"
             ],
             [
              0.1111111111111111,
              "#46039f"
             ],
             [
              0.2222222222222222,
              "#7201a8"
             ],
             [
              0.3333333333333333,
              "#9c179e"
             ],
             [
              0.4444444444444444,
              "#bd3786"
             ],
             [
              0.5555555555555556,
              "#d8576b"
             ],
             [
              0.6666666666666666,
              "#ed7953"
             ],
             [
              0.7777777777777778,
              "#fb9f3a"
             ],
             [
              0.8888888888888888,
              "#fdca26"
             ],
             [
              1,
              "#f0f921"
             ]
            ],
            "type": "histogram2d"
           }
          ],
          "histogram2dcontour": [
           {
            "colorbar": {
             "outlinewidth": 0,
             "ticks": ""
            },
            "colorscale": [
             [
              0,
              "#0d0887"
             ],
             [
              0.1111111111111111,
              "#46039f"
             ],
             [
              0.2222222222222222,
              "#7201a8"
             ],
             [
              0.3333333333333333,
              "#9c179e"
             ],
             [
              0.4444444444444444,
              "#bd3786"
             ],
             [
              0.5555555555555556,
              "#d8576b"
             ],
             [
              0.6666666666666666,
              "#ed7953"
             ],
             [
              0.7777777777777778,
              "#fb9f3a"
             ],
             [
              0.8888888888888888,
              "#fdca26"
             ],
             [
              1,
              "#f0f921"
             ]
            ],
            "type": "histogram2dcontour"
           }
          ],
          "mesh3d": [
           {
            "colorbar": {
             "outlinewidth": 0,
             "ticks": ""
            },
            "type": "mesh3d"
           }
          ],
          "parcoords": [
           {
            "line": {
             "colorbar": {
              "outlinewidth": 0,
              "ticks": ""
             }
            },
            "type": "parcoords"
           }
          ],
          "pie": [
           {
            "automargin": true,
            "type": "pie"
           }
          ],
          "scatter": [
           {
            "fillpattern": {
             "fillmode": "overlay",
             "size": 10,
             "solidity": 0.2
            },
            "type": "scatter"
           }
          ],
          "scatter3d": [
           {
            "line": {
             "colorbar": {
              "outlinewidth": 0,
              "ticks": ""
             }
            },
            "marker": {
             "colorbar": {
              "outlinewidth": 0,
              "ticks": ""
             }
            },
            "type": "scatter3d"
           }
          ],
          "scattercarpet": [
           {
            "marker": {
             "colorbar": {
              "outlinewidth": 0,
              "ticks": ""
             }
            },
            "type": "scattercarpet"
           }
          ],
          "scattergeo": [
           {
            "marker": {
             "colorbar": {
              "outlinewidth": 0,
              "ticks": ""
             }
            },
            "type": "scattergeo"
           }
          ],
          "scattergl": [
           {
            "marker": {
             "colorbar": {
              "outlinewidth": 0,
              "ticks": ""
             }
            },
            "type": "scattergl"
           }
          ],
          "scattermap": [
           {
            "marker": {
             "colorbar": {
              "outlinewidth": 0,
              "ticks": ""
             }
            },
            "type": "scattermap"
           }
          ],
          "scattermapbox": [
           {
            "marker": {
             "colorbar": {
              "outlinewidth": 0,
              "ticks": ""
             }
            },
            "type": "scattermapbox"
           }
          ],
          "scatterpolar": [
           {
            "marker": {
             "colorbar": {
              "outlinewidth": 0,
              "ticks": ""
             }
            },
            "type": "scatterpolar"
           }
          ],
          "scatterpolargl": [
           {
            "marker": {
             "colorbar": {
              "outlinewidth": 0,
              "ticks": ""
             }
            },
            "type": "scatterpolargl"
           }
          ],
          "scatterternary": [
           {
            "marker": {
             "colorbar": {
              "outlinewidth": 0,
              "ticks": ""
             }
            },
            "type": "scatterternary"
           }
          ],
          "surface": [
           {
            "colorbar": {
             "outlinewidth": 0,
             "ticks": ""
            },
            "colorscale": [
             [
              0,
              "#0d0887"
             ],
             [
              0.1111111111111111,
              "#46039f"
             ],
             [
              0.2222222222222222,
              "#7201a8"
             ],
             [
              0.3333333333333333,
              "#9c179e"
             ],
             [
              0.4444444444444444,
              "#bd3786"
             ],
             [
              0.5555555555555556,
              "#d8576b"
             ],
             [
              0.6666666666666666,
              "#ed7953"
             ],
             [
              0.7777777777777778,
              "#fb9f3a"
             ],
             [
              0.8888888888888888,
              "#fdca26"
             ],
             [
              1,
              "#f0f921"
             ]
            ],
            "type": "surface"
           }
          ],
          "table": [
           {
            "cells": {
             "fill": {
              "color": "#EBF0F8"
             },
             "line": {
              "color": "white"
             }
            },
            "header": {
             "fill": {
              "color": "#C8D4E3"
             },
             "line": {
              "color": "white"
             }
            },
            "type": "table"
           }
          ]
         },
         "layout": {
          "annotationdefaults": {
           "arrowcolor": "#2a3f5f",
           "arrowhead": 0,
           "arrowwidth": 1
          },
          "autotypenumbers": "strict",
          "coloraxis": {
           "colorbar": {
            "outlinewidth": 0,
            "ticks": ""
           }
          },
          "colorscale": {
           "diverging": [
            [
             0,
             "#8e0152"
            ],
            [
             0.1,
             "#c51b7d"
            ],
            [
             0.2,
             "#de77ae"
            ],
            [
             0.3,
             "#f1b6da"
            ],
            [
             0.4,
             "#fde0ef"
            ],
            [
             0.5,
             "#f7f7f7"
            ],
            [
             0.6,
             "#e6f5d0"
            ],
            [
             0.7,
             "#b8e186"
            ],
            [
             0.8,
             "#7fbc41"
            ],
            [
             0.9,
             "#4d9221"
            ],
            [
             1,
             "#276419"
            ]
           ],
           "sequential": [
            [
             0,
             "#0d0887"
            ],
            [
             0.1111111111111111,
             "#46039f"
            ],
            [
             0.2222222222222222,
             "#7201a8"
            ],
            [
             0.3333333333333333,
             "#9c179e"
            ],
            [
             0.4444444444444444,
             "#bd3786"
            ],
            [
             0.5555555555555556,
             "#d8576b"
            ],
            [
             0.6666666666666666,
             "#ed7953"
            ],
            [
             0.7777777777777778,
             "#fb9f3a"
            ],
            [
             0.8888888888888888,
             "#fdca26"
            ],
            [
             1,
             "#f0f921"
            ]
           ],
           "sequentialminus": [
            [
             0,
             "#0d0887"
            ],
            [
             0.1111111111111111,
             "#46039f"
            ],
            [
             0.2222222222222222,
             "#7201a8"
            ],
            [
             0.3333333333333333,
             "#9c179e"
            ],
            [
             0.4444444444444444,
             "#bd3786"
            ],
            [
             0.5555555555555556,
             "#d8576b"
            ],
            [
             0.6666666666666666,
             "#ed7953"
            ],
            [
             0.7777777777777778,
             "#fb9f3a"
            ],
            [
             0.8888888888888888,
             "#fdca26"
            ],
            [
             1,
             "#f0f921"
            ]
           ]
          },
          "colorway": [
           "#636efa",
           "#EF553B",
           "#00cc96",
           "#ab63fa",
           "#FFA15A",
           "#19d3f3",
           "#FF6692",
           "#B6E880",
           "#FF97FF",
           "#FECB52"
          ],
          "font": {
           "color": "#2a3f5f"
          },
          "geo": {
           "bgcolor": "white",
           "lakecolor": "white",
           "landcolor": "#E5ECF6",
           "showlakes": true,
           "showland": true,
           "subunitcolor": "white"
          },
          "hoverlabel": {
           "align": "left"
          },
          "hovermode": "closest",
          "mapbox": {
           "style": "light"
          },
          "paper_bgcolor": "white",
          "plot_bgcolor": "#E5ECF6",
          "polar": {
           "angularaxis": {
            "gridcolor": "white",
            "linecolor": "white",
            "ticks": ""
           },
           "bgcolor": "#E5ECF6",
           "radialaxis": {
            "gridcolor": "white",
            "linecolor": "white",
            "ticks": ""
           }
          },
          "scene": {
           "xaxis": {
            "backgroundcolor": "#E5ECF6",
            "gridcolor": "white",
            "gridwidth": 2,
            "linecolor": "white",
            "showbackground": true,
            "ticks": "",
            "zerolinecolor": "white"
           },
           "yaxis": {
            "backgroundcolor": "#E5ECF6",
            "gridcolor": "white",
            "gridwidth": 2,
            "linecolor": "white",
            "showbackground": true,
            "ticks": "",
            "zerolinecolor": "white"
           },
           "zaxis": {
            "backgroundcolor": "#E5ECF6",
            "gridcolor": "white",
            "gridwidth": 2,
            "linecolor": "white",
            "showbackground": true,
            "ticks": "",
            "zerolinecolor": "white"
           }
          },
          "shapedefaults": {
           "line": {
            "color": "#2a3f5f"
           }
          },
          "ternary": {
           "aaxis": {
            "gridcolor": "white",
            "linecolor": "white",
            "ticks": ""
           },
           "baxis": {
            "gridcolor": "white",
            "linecolor": "white",
            "ticks": ""
           },
           "bgcolor": "#E5ECF6",
           "caxis": {
            "gridcolor": "white",
            "linecolor": "white",
            "ticks": ""
           }
          },
          "title": {
           "x": 0.05
          },
          "xaxis": {
           "automargin": true,
           "gridcolor": "white",
           "linecolor": "white",
           "ticks": "",
           "title": {
            "standoff": 15
           },
           "zerolinecolor": "white",
           "zerolinewidth": 2
          },
          "yaxis": {
           "automargin": true,
           "gridcolor": "white",
           "linecolor": "white",
           "ticks": "",
           "title": {
            "standoff": 15
           },
           "zerolinecolor": "white",
           "zerolinewidth": 2
          }
         }
        }
       }
      }
     },
     "metadata": {},
     "output_type": "display_data"
    }
   ],
   "source": [
    "import plotly.graph_objects as go\n",
    "\n",
    "label_list = ['lying', 'sitting',  'lying', 'sitting', 'standing', 'standing', 'sitting' ]\n",
    "\n",
    "# Pose 1: lying: 0, sitting: 1, \n",
    "# Pose 2: lying: 2, sitting: 3, standing: 4, \n",
    "# Pose 3: standing: 5, sitting: 6\n",
    "\n",
    "source = [1, 0, 0, 2, 3, 4]\n",
    "target = [2, 3, 4, 5, 5, 6]\n",
    "count = [14, 13, 1, 14, 13, 1]\n",
    "\n",
    "fig = go.Figure(data=[go.Sankey(\n",
    "    node = {\"label\": label_list},\n",
    "    link = {\"source\": source, \"target\": target, \"value\": count}\n",
    "    )])\n",
    "fig.show()"
   ]
  },
  {
   "cell_type": "code",
   "execution_count": 187,
   "id": "a4a40c41",
   "metadata": {},
   "outputs": [
    {
     "data": {
      "text/plain": [
       "pose2_summer  pose3_summer\n",
       "sitting       standing        12\n",
       "lying         standing        10\n",
       "              grooming         2\n",
       "              eating           1\n",
       "sitting       eating           1\n",
       "              grooming         1\n",
       "standing      sitting          1\n",
       "dtype: int64"
      ]
     },
     "execution_count": 187,
     "metadata": {},
     "output_type": "execute_result"
    }
   ],
   "source": [
    "df[[\"pose2_summer\",\"pose3_summer\"]].value_counts()"
   ]
  },
  {
   "cell_type": "code",
   "execution_count": null,
   "id": "ee3a1d34",
   "metadata": {},
   "outputs": [
    {
     "data": {
      "application/vnd.plotly.v1+json": {
       "config": {
        "plotlyServerURL": "https://plot.ly"
       },
       "data": [
        {
         "link": {
          "source": [
           0,
           0,
           1,
           2,
           2,
           2,
           3,
           3,
           3,
           4
          ],
          "target": [
           3,
           4,
           2,
           5,
           7,
           8,
           5,
           7,
           8,
           6
          ],
          "value": [
           14,
           1,
           13,
           10,
           2,
           1,
           12,
           1,
           1,
           1
          ]
         },
         "node": {
          "label": [
           "lying",
           "sitting",
           "lying",
           "sitting",
           "standing",
           "standing",
           "sitting",
           "grooming",
           "eating"
          ]
         },
         "type": "sankey"
        }
       ],
       "layout": {
        "template": {
         "data": {
          "bar": [
           {
            "error_x": {
             "color": "#2a3f5f"
            },
            "error_y": {
             "color": "#2a3f5f"
            },
            "marker": {
             "line": {
              "color": "#E5ECF6",
              "width": 0.5
             },
             "pattern": {
              "fillmode": "overlay",
              "size": 10,
              "solidity": 0.2
             }
            },
            "type": "bar"
           }
          ],
          "barpolar": [
           {
            "marker": {
             "line": {
              "color": "#E5ECF6",
              "width": 0.5
             },
             "pattern": {
              "fillmode": "overlay",
              "size": 10,
              "solidity": 0.2
             }
            },
            "type": "barpolar"
           }
          ],
          "carpet": [
           {
            "aaxis": {
             "endlinecolor": "#2a3f5f",
             "gridcolor": "white",
             "linecolor": "white",
             "minorgridcolor": "white",
             "startlinecolor": "#2a3f5f"
            },
            "baxis": {
             "endlinecolor": "#2a3f5f",
             "gridcolor": "white",
             "linecolor": "white",
             "minorgridcolor": "white",
             "startlinecolor": "#2a3f5f"
            },
            "type": "carpet"
           }
          ],
          "choropleth": [
           {
            "colorbar": {
             "outlinewidth": 0,
             "ticks": ""
            },
            "type": "choropleth"
           }
          ],
          "contour": [
           {
            "colorbar": {
             "outlinewidth": 0,
             "ticks": ""
            },
            "colorscale": [
             [
              0,
              "#0d0887"
             ],
             [
              0.1111111111111111,
              "#46039f"
             ],
             [
              0.2222222222222222,
              "#7201a8"
             ],
             [
              0.3333333333333333,
              "#9c179e"
             ],
             [
              0.4444444444444444,
              "#bd3786"
             ],
             [
              0.5555555555555556,
              "#d8576b"
             ],
             [
              0.6666666666666666,
              "#ed7953"
             ],
             [
              0.7777777777777778,
              "#fb9f3a"
             ],
             [
              0.8888888888888888,
              "#fdca26"
             ],
             [
              1,
              "#f0f921"
             ]
            ],
            "type": "contour"
           }
          ],
          "contourcarpet": [
           {
            "colorbar": {
             "outlinewidth": 0,
             "ticks": ""
            },
            "type": "contourcarpet"
           }
          ],
          "heatmap": [
           {
            "colorbar": {
             "outlinewidth": 0,
             "ticks": ""
            },
            "colorscale": [
             [
              0,
              "#0d0887"
             ],
             [
              0.1111111111111111,
              "#46039f"
             ],
             [
              0.2222222222222222,
              "#7201a8"
             ],
             [
              0.3333333333333333,
              "#9c179e"
             ],
             [
              0.4444444444444444,
              "#bd3786"
             ],
             [
              0.5555555555555556,
              "#d8576b"
             ],
             [
              0.6666666666666666,
              "#ed7953"
             ],
             [
              0.7777777777777778,
              "#fb9f3a"
             ],
             [
              0.8888888888888888,
              "#fdca26"
             ],
             [
              1,
              "#f0f921"
             ]
            ],
            "type": "heatmap"
           }
          ],
          "histogram": [
           {
            "marker": {
             "pattern": {
              "fillmode": "overlay",
              "size": 10,
              "solidity": 0.2
             }
            },
            "type": "histogram"
           }
          ],
          "histogram2d": [
           {
            "colorbar": {
             "outlinewidth": 0,
             "ticks": ""
            },
            "colorscale": [
             [
              0,
              "#0d0887"
             ],
             [
              0.1111111111111111,
              "#46039f"
             ],
             [
              0.2222222222222222,
              "#7201a8"
             ],
             [
              0.3333333333333333,
              "#9c179e"
             ],
             [
              0.4444444444444444,
              "#bd3786"
             ],
             [
              0.5555555555555556,
              "#d8576b"
             ],
             [
              0.6666666666666666,
              "#ed7953"
             ],
             [
              0.7777777777777778,
              "#fb9f3a"
             ],
             [
              0.8888888888888888,
              "#fdca26"
             ],
             [
              1,
              "#f0f921"
             ]
            ],
            "type": "histogram2d"
           }
          ],
          "histogram2dcontour": [
           {
            "colorbar": {
             "outlinewidth": 0,
             "ticks": ""
            },
            "colorscale": [
             [
              0,
              "#0d0887"
             ],
             [
              0.1111111111111111,
              "#46039f"
             ],
             [
              0.2222222222222222,
              "#7201a8"
             ],
             [
              0.3333333333333333,
              "#9c179e"
             ],
             [
              0.4444444444444444,
              "#bd3786"
             ],
             [
              0.5555555555555556,
              "#d8576b"
             ],
             [
              0.6666666666666666,
              "#ed7953"
             ],
             [
              0.7777777777777778,
              "#fb9f3a"
             ],
             [
              0.8888888888888888,
              "#fdca26"
             ],
             [
              1,
              "#f0f921"
             ]
            ],
            "type": "histogram2dcontour"
           }
          ],
          "mesh3d": [
           {
            "colorbar": {
             "outlinewidth": 0,
             "ticks": ""
            },
            "type": "mesh3d"
           }
          ],
          "parcoords": [
           {
            "line": {
             "colorbar": {
              "outlinewidth": 0,
              "ticks": ""
             }
            },
            "type": "parcoords"
           }
          ],
          "pie": [
           {
            "automargin": true,
            "type": "pie"
           }
          ],
          "scatter": [
           {
            "fillpattern": {
             "fillmode": "overlay",
             "size": 10,
             "solidity": 0.2
            },
            "type": "scatter"
           }
          ],
          "scatter3d": [
           {
            "line": {
             "colorbar": {
              "outlinewidth": 0,
              "ticks": ""
             }
            },
            "marker": {
             "colorbar": {
              "outlinewidth": 0,
              "ticks": ""
             }
            },
            "type": "scatter3d"
           }
          ],
          "scattercarpet": [
           {
            "marker": {
             "colorbar": {
              "outlinewidth": 0,
              "ticks": ""
             }
            },
            "type": "scattercarpet"
           }
          ],
          "scattergeo": [
           {
            "marker": {
             "colorbar": {
              "outlinewidth": 0,
              "ticks": ""
             }
            },
            "type": "scattergeo"
           }
          ],
          "scattergl": [
           {
            "marker": {
             "colorbar": {
              "outlinewidth": 0,
              "ticks": ""
             }
            },
            "type": "scattergl"
           }
          ],
          "scattermap": [
           {
            "marker": {
             "colorbar": {
              "outlinewidth": 0,
              "ticks": ""
             }
            },
            "type": "scattermap"
           }
          ],
          "scattermapbox": [
           {
            "marker": {
             "colorbar": {
              "outlinewidth": 0,
              "ticks": ""
             }
            },
            "type": "scattermapbox"
           }
          ],
          "scatterpolar": [
           {
            "marker": {
             "colorbar": {
              "outlinewidth": 0,
              "ticks": ""
             }
            },
            "type": "scatterpolar"
           }
          ],
          "scatterpolargl": [
           {
            "marker": {
             "colorbar": {
              "outlinewidth": 0,
              "ticks": ""
             }
            },
            "type": "scatterpolargl"
           }
          ],
          "scatterternary": [
           {
            "marker": {
             "colorbar": {
              "outlinewidth": 0,
              "ticks": ""
             }
            },
            "type": "scatterternary"
           }
          ],
          "surface": [
           {
            "colorbar": {
             "outlinewidth": 0,
             "ticks": ""
            },
            "colorscale": [
             [
              0,
              "#0d0887"
             ],
             [
              0.1111111111111111,
              "#46039f"
             ],
             [
              0.2222222222222222,
              "#7201a8"
             ],
             [
              0.3333333333333333,
              "#9c179e"
             ],
             [
              0.4444444444444444,
              "#bd3786"
             ],
             [
              0.5555555555555556,
              "#d8576b"
             ],
             [
              0.6666666666666666,
              "#ed7953"
             ],
             [
              0.7777777777777778,
              "#fb9f3a"
             ],
             [
              0.8888888888888888,
              "#fdca26"
             ],
             [
              1,
              "#f0f921"
             ]
            ],
            "type": "surface"
           }
          ],
          "table": [
           {
            "cells": {
             "fill": {
              "color": "#EBF0F8"
             },
             "line": {
              "color": "white"
             }
            },
            "header": {
             "fill": {
              "color": "#C8D4E3"
             },
             "line": {
              "color": "white"
             }
            },
            "type": "table"
           }
          ]
         },
         "layout": {
          "annotationdefaults": {
           "arrowcolor": "#2a3f5f",
           "arrowhead": 0,
           "arrowwidth": 1
          },
          "autotypenumbers": "strict",
          "coloraxis": {
           "colorbar": {
            "outlinewidth": 0,
            "ticks": ""
           }
          },
          "colorscale": {
           "diverging": [
            [
             0,
             "#8e0152"
            ],
            [
             0.1,
             "#c51b7d"
            ],
            [
             0.2,
             "#de77ae"
            ],
            [
             0.3,
             "#f1b6da"
            ],
            [
             0.4,
             "#fde0ef"
            ],
            [
             0.5,
             "#f7f7f7"
            ],
            [
             0.6,
             "#e6f5d0"
            ],
            [
             0.7,
             "#b8e186"
            ],
            [
             0.8,
             "#7fbc41"
            ],
            [
             0.9,
             "#4d9221"
            ],
            [
             1,
             "#276419"
            ]
           ],
           "sequential": [
            [
             0,
             "#0d0887"
            ],
            [
             0.1111111111111111,
             "#46039f"
            ],
            [
             0.2222222222222222,
             "#7201a8"
            ],
            [
             0.3333333333333333,
             "#9c179e"
            ],
            [
             0.4444444444444444,
             "#bd3786"
            ],
            [
             0.5555555555555556,
             "#d8576b"
            ],
            [
             0.6666666666666666,
             "#ed7953"
            ],
            [
             0.7777777777777778,
             "#fb9f3a"
            ],
            [
             0.8888888888888888,
             "#fdca26"
            ],
            [
             1,
             "#f0f921"
            ]
           ],
           "sequentialminus": [
            [
             0,
             "#0d0887"
            ],
            [
             0.1111111111111111,
             "#46039f"
            ],
            [
             0.2222222222222222,
             "#7201a8"
            ],
            [
             0.3333333333333333,
             "#9c179e"
            ],
            [
             0.4444444444444444,
             "#bd3786"
            ],
            [
             0.5555555555555556,
             "#d8576b"
            ],
            [
             0.6666666666666666,
             "#ed7953"
            ],
            [
             0.7777777777777778,
             "#fb9f3a"
            ],
            [
             0.8888888888888888,
             "#fdca26"
            ],
            [
             1,
             "#f0f921"
            ]
           ]
          },
          "colorway": [
           "#636efa",
           "#EF553B",
           "#00cc96",
           "#ab63fa",
           "#FFA15A",
           "#19d3f3",
           "#FF6692",
           "#B6E880",
           "#FF97FF",
           "#FECB52"
          ],
          "font": {
           "color": "#2a3f5f"
          },
          "geo": {
           "bgcolor": "white",
           "lakecolor": "white",
           "landcolor": "#E5ECF6",
           "showlakes": true,
           "showland": true,
           "subunitcolor": "white"
          },
          "hoverlabel": {
           "align": "left"
          },
          "hovermode": "closest",
          "mapbox": {
           "style": "light"
          },
          "paper_bgcolor": "white",
          "plot_bgcolor": "#E5ECF6",
          "polar": {
           "angularaxis": {
            "gridcolor": "white",
            "linecolor": "white",
            "ticks": ""
           },
           "bgcolor": "#E5ECF6",
           "radialaxis": {
            "gridcolor": "white",
            "linecolor": "white",
            "ticks": ""
           }
          },
          "scene": {
           "xaxis": {
            "backgroundcolor": "#E5ECF6",
            "gridcolor": "white",
            "gridwidth": 2,
            "linecolor": "white",
            "showbackground": true,
            "ticks": "",
            "zerolinecolor": "white"
           },
           "yaxis": {
            "backgroundcolor": "#E5ECF6",
            "gridcolor": "white",
            "gridwidth": 2,
            "linecolor": "white",
            "showbackground": true,
            "ticks": "",
            "zerolinecolor": "white"
           },
           "zaxis": {
            "backgroundcolor": "#E5ECF6",
            "gridcolor": "white",
            "gridwidth": 2,
            "linecolor": "white",
            "showbackground": true,
            "ticks": "",
            "zerolinecolor": "white"
           }
          },
          "shapedefaults": {
           "line": {
            "color": "#2a3f5f"
           }
          },
          "ternary": {
           "aaxis": {
            "gridcolor": "white",
            "linecolor": "white",
            "ticks": ""
           },
           "baxis": {
            "gridcolor": "white",
            "linecolor": "white",
            "ticks": ""
           },
           "bgcolor": "#E5ECF6",
           "caxis": {
            "gridcolor": "white",
            "linecolor": "white",
            "ticks": ""
           }
          },
          "title": {
           "x": 0.05
          },
          "xaxis": {
           "automargin": true,
           "gridcolor": "white",
           "linecolor": "white",
           "ticks": "",
           "title": {
            "standoff": 15
           },
           "zerolinecolor": "white",
           "zerolinewidth": 2
          },
          "yaxis": {
           "automargin": true,
           "gridcolor": "white",
           "linecolor": "white",
           "ticks": "",
           "title": {
            "standoff": 15
           },
           "zerolinecolor": "white",
           "zerolinewidth": 2
          }
         }
        }
       }
      }
     },
     "metadata": {},
     "output_type": "display_data"
    }
   ],
   "source": [
    "#SUMMER\n",
    "label_list = ['lying', 'sitting',  \n",
    "              'lying', 'sitting', 'standing', \n",
    "              'standing', 'sitting', 'grooming', 'eating' ]\n",
    "\n",
    "# Pose 1: lying: 0, sitting: 1, \n",
    "# Pose 2: lying: 2, sitting: 3, standing: 4, \n",
    "# Pose 3: standing: 5, sitting: 6, grooming: 7, eating: 8\n",
    "\n",
    "source = [0, 0, 1, 2, 2, 2, 3, 3, 3, 4]\n",
    "target = [3, 4, 2, 5, 7, 8, 5, 7, 8, 6]\n",
    "count = [14, 1, 13, 10, 2, 1, 12, 1, 1, 1]\n",
    "\n",
    "fig = go.Figure(data=[go.Sankey(\n",
    "    node = {\"label\": label_list},\n",
    "    link = {\"source\": source, \"target\": target, \"value\": count}\n",
    "    )])\n",
    "fig.show()"
   ]
  },
  {
   "cell_type": "code",
   "execution_count": 194,
   "id": "32d7918c",
   "metadata": {},
   "outputs": [
    {
     "data": {
      "text/plain": [
       "pose2_winter  pose3_winter\n",
       "lying         standing        14\n",
       "sitting       standing         6\n",
       "standing      sitting          5\n",
       "sitting       eating           2\n",
       "eating        standing         1\n",
       "dtype: int64"
      ]
     },
     "execution_count": 194,
     "metadata": {},
     "output_type": "execute_result"
    }
   ],
   "source": [
    "df[[\"pose2_winter\",\"pose3_winter\"]].value_counts()"
   ]
  },
  {
   "cell_type": "code",
   "execution_count": 196,
   "id": "c01c12a2",
   "metadata": {},
   "outputs": [
    {
     "data": {
      "application/vnd.plotly.v1+json": {
       "config": {
        "plotlyServerURL": "https://plot.ly"
       },
       "data": [
        {
         "link": {
          "source": [
           0,
           0,
           0,
           1,
           2,
           3,
           3,
           4,
           5
          ],
          "target": [
           3,
           4,
           5,
           2,
           6,
           6,
           9,
           7,
           6
          ],
          "value": [
           8,
           5,
           1,
           14,
           14,
           6,
           2,
           5,
           1
          ]
         },
         "node": {
          "label": [
           "lying",
           "sitting",
           "lying",
           "sitting",
           "standing",
           "eating",
           "standing",
           "sitting",
           "grooming",
           "eating"
          ]
         },
         "type": "sankey"
        }
       ],
       "layout": {
        "template": {
         "data": {
          "bar": [
           {
            "error_x": {
             "color": "#2a3f5f"
            },
            "error_y": {
             "color": "#2a3f5f"
            },
            "marker": {
             "line": {
              "color": "#E5ECF6",
              "width": 0.5
             },
             "pattern": {
              "fillmode": "overlay",
              "size": 10,
              "solidity": 0.2
             }
            },
            "type": "bar"
           }
          ],
          "barpolar": [
           {
            "marker": {
             "line": {
              "color": "#E5ECF6",
              "width": 0.5
             },
             "pattern": {
              "fillmode": "overlay",
              "size": 10,
              "solidity": 0.2
             }
            },
            "type": "barpolar"
           }
          ],
          "carpet": [
           {
            "aaxis": {
             "endlinecolor": "#2a3f5f",
             "gridcolor": "white",
             "linecolor": "white",
             "minorgridcolor": "white",
             "startlinecolor": "#2a3f5f"
            },
            "baxis": {
             "endlinecolor": "#2a3f5f",
             "gridcolor": "white",
             "linecolor": "white",
             "minorgridcolor": "white",
             "startlinecolor": "#2a3f5f"
            },
            "type": "carpet"
           }
          ],
          "choropleth": [
           {
            "colorbar": {
             "outlinewidth": 0,
             "ticks": ""
            },
            "type": "choropleth"
           }
          ],
          "contour": [
           {
            "colorbar": {
             "outlinewidth": 0,
             "ticks": ""
            },
            "colorscale": [
             [
              0,
              "#0d0887"
             ],
             [
              0.1111111111111111,
              "#46039f"
             ],
             [
              0.2222222222222222,
              "#7201a8"
             ],
             [
              0.3333333333333333,
              "#9c179e"
             ],
             [
              0.4444444444444444,
              "#bd3786"
             ],
             [
              0.5555555555555556,
              "#d8576b"
             ],
             [
              0.6666666666666666,
              "#ed7953"
             ],
             [
              0.7777777777777778,
              "#fb9f3a"
             ],
             [
              0.8888888888888888,
              "#fdca26"
             ],
             [
              1,
              "#f0f921"
             ]
            ],
            "type": "contour"
           }
          ],
          "contourcarpet": [
           {
            "colorbar": {
             "outlinewidth": 0,
             "ticks": ""
            },
            "type": "contourcarpet"
           }
          ],
          "heatmap": [
           {
            "colorbar": {
             "outlinewidth": 0,
             "ticks": ""
            },
            "colorscale": [
             [
              0,
              "#0d0887"
             ],
             [
              0.1111111111111111,
              "#46039f"
             ],
             [
              0.2222222222222222,
              "#7201a8"
             ],
             [
              0.3333333333333333,
              "#9c179e"
             ],
             [
              0.4444444444444444,
              "#bd3786"
             ],
             [
              0.5555555555555556,
              "#d8576b"
             ],
             [
              0.6666666666666666,
              "#ed7953"
             ],
             [
              0.7777777777777778,
              "#fb9f3a"
             ],
             [
              0.8888888888888888,
              "#fdca26"
             ],
             [
              1,
              "#f0f921"
             ]
            ],
            "type": "heatmap"
           }
          ],
          "histogram": [
           {
            "marker": {
             "pattern": {
              "fillmode": "overlay",
              "size": 10,
              "solidity": 0.2
             }
            },
            "type": "histogram"
           }
          ],
          "histogram2d": [
           {
            "colorbar": {
             "outlinewidth": 0,
             "ticks": ""
            },
            "colorscale": [
             [
              0,
              "#0d0887"
             ],
             [
              0.1111111111111111,
              "#46039f"
             ],
             [
              0.2222222222222222,
              "#7201a8"
             ],
             [
              0.3333333333333333,
              "#9c179e"
             ],
             [
              0.4444444444444444,
              "#bd3786"
             ],
             [
              0.5555555555555556,
              "#d8576b"
             ],
             [
              0.6666666666666666,
              "#ed7953"
             ],
             [
              0.7777777777777778,
              "#fb9f3a"
             ],
             [
              0.8888888888888888,
              "#fdca26"
             ],
             [
              1,
              "#f0f921"
             ]
            ],
            "type": "histogram2d"
           }
          ],
          "histogram2dcontour": [
           {
            "colorbar": {
             "outlinewidth": 0,
             "ticks": ""
            },
            "colorscale": [
             [
              0,
              "#0d0887"
             ],
             [
              0.1111111111111111,
              "#46039f"
             ],
             [
              0.2222222222222222,
              "#7201a8"
             ],
             [
              0.3333333333333333,
              "#9c179e"
             ],
             [
              0.4444444444444444,
              "#bd3786"
             ],
             [
              0.5555555555555556,
              "#d8576b"
             ],
             [
              0.6666666666666666,
              "#ed7953"
             ],
             [
              0.7777777777777778,
              "#fb9f3a"
             ],
             [
              0.8888888888888888,
              "#fdca26"
             ],
             [
              1,
              "#f0f921"
             ]
            ],
            "type": "histogram2dcontour"
           }
          ],
          "mesh3d": [
           {
            "colorbar": {
             "outlinewidth": 0,
             "ticks": ""
            },
            "type": "mesh3d"
           }
          ],
          "parcoords": [
           {
            "line": {
             "colorbar": {
              "outlinewidth": 0,
              "ticks": ""
             }
            },
            "type": "parcoords"
           }
          ],
          "pie": [
           {
            "automargin": true,
            "type": "pie"
           }
          ],
          "scatter": [
           {
            "fillpattern": {
             "fillmode": "overlay",
             "size": 10,
             "solidity": 0.2
            },
            "type": "scatter"
           }
          ],
          "scatter3d": [
           {
            "line": {
             "colorbar": {
              "outlinewidth": 0,
              "ticks": ""
             }
            },
            "marker": {
             "colorbar": {
              "outlinewidth": 0,
              "ticks": ""
             }
            },
            "type": "scatter3d"
           }
          ],
          "scattercarpet": [
           {
            "marker": {
             "colorbar": {
              "outlinewidth": 0,
              "ticks": ""
             }
            },
            "type": "scattercarpet"
           }
          ],
          "scattergeo": [
           {
            "marker": {
             "colorbar": {
              "outlinewidth": 0,
              "ticks": ""
             }
            },
            "type": "scattergeo"
           }
          ],
          "scattergl": [
           {
            "marker": {
             "colorbar": {
              "outlinewidth": 0,
              "ticks": ""
             }
            },
            "type": "scattergl"
           }
          ],
          "scattermap": [
           {
            "marker": {
             "colorbar": {
              "outlinewidth": 0,
              "ticks": ""
             }
            },
            "type": "scattermap"
           }
          ],
          "scattermapbox": [
           {
            "marker": {
             "colorbar": {
              "outlinewidth": 0,
              "ticks": ""
             }
            },
            "type": "scattermapbox"
           }
          ],
          "scatterpolar": [
           {
            "marker": {
             "colorbar": {
              "outlinewidth": 0,
              "ticks": ""
             }
            },
            "type": "scatterpolar"
           }
          ],
          "scatterpolargl": [
           {
            "marker": {
             "colorbar": {
              "outlinewidth": 0,
              "ticks": ""
             }
            },
            "type": "scatterpolargl"
           }
          ],
          "scatterternary": [
           {
            "marker": {
             "colorbar": {
              "outlinewidth": 0,
              "ticks": ""
             }
            },
            "type": "scatterternary"
           }
          ],
          "surface": [
           {
            "colorbar": {
             "outlinewidth": 0,
             "ticks": ""
            },
            "colorscale": [
             [
              0,
              "#0d0887"
             ],
             [
              0.1111111111111111,
              "#46039f"
             ],
             [
              0.2222222222222222,
              "#7201a8"
             ],
             [
              0.3333333333333333,
              "#9c179e"
             ],
             [
              0.4444444444444444,
              "#bd3786"
             ],
             [
              0.5555555555555556,
              "#d8576b"
             ],
             [
              0.6666666666666666,
              "#ed7953"
             ],
             [
              0.7777777777777778,
              "#fb9f3a"
             ],
             [
              0.8888888888888888,
              "#fdca26"
             ],
             [
              1,
              "#f0f921"
             ]
            ],
            "type": "surface"
           }
          ],
          "table": [
           {
            "cells": {
             "fill": {
              "color": "#EBF0F8"
             },
             "line": {
              "color": "white"
             }
            },
            "header": {
             "fill": {
              "color": "#C8D4E3"
             },
             "line": {
              "color": "white"
             }
            },
            "type": "table"
           }
          ]
         },
         "layout": {
          "annotationdefaults": {
           "arrowcolor": "#2a3f5f",
           "arrowhead": 0,
           "arrowwidth": 1
          },
          "autotypenumbers": "strict",
          "coloraxis": {
           "colorbar": {
            "outlinewidth": 0,
            "ticks": ""
           }
          },
          "colorscale": {
           "diverging": [
            [
             0,
             "#8e0152"
            ],
            [
             0.1,
             "#c51b7d"
            ],
            [
             0.2,
             "#de77ae"
            ],
            [
             0.3,
             "#f1b6da"
            ],
            [
             0.4,
             "#fde0ef"
            ],
            [
             0.5,
             "#f7f7f7"
            ],
            [
             0.6,
             "#e6f5d0"
            ],
            [
             0.7,
             "#b8e186"
            ],
            [
             0.8,
             "#7fbc41"
            ],
            [
             0.9,
             "#4d9221"
            ],
            [
             1,
             "#276419"
            ]
           ],
           "sequential": [
            [
             0,
             "#0d0887"
            ],
            [
             0.1111111111111111,
             "#46039f"
            ],
            [
             0.2222222222222222,
             "#7201a8"
            ],
            [
             0.3333333333333333,
             "#9c179e"
            ],
            [
             0.4444444444444444,
             "#bd3786"
            ],
            [
             0.5555555555555556,
             "#d8576b"
            ],
            [
             0.6666666666666666,
             "#ed7953"
            ],
            [
             0.7777777777777778,
             "#fb9f3a"
            ],
            [
             0.8888888888888888,
             "#fdca26"
            ],
            [
             1,
             "#f0f921"
            ]
           ],
           "sequentialminus": [
            [
             0,
             "#0d0887"
            ],
            [
             0.1111111111111111,
             "#46039f"
            ],
            [
             0.2222222222222222,
             "#7201a8"
            ],
            [
             0.3333333333333333,
             "#9c179e"
            ],
            [
             0.4444444444444444,
             "#bd3786"
            ],
            [
             0.5555555555555556,
             "#d8576b"
            ],
            [
             0.6666666666666666,
             "#ed7953"
            ],
            [
             0.7777777777777778,
             "#fb9f3a"
            ],
            [
             0.8888888888888888,
             "#fdca26"
            ],
            [
             1,
             "#f0f921"
            ]
           ]
          },
          "colorway": [
           "#636efa",
           "#EF553B",
           "#00cc96",
           "#ab63fa",
           "#FFA15A",
           "#19d3f3",
           "#FF6692",
           "#B6E880",
           "#FF97FF",
           "#FECB52"
          ],
          "font": {
           "color": "#2a3f5f"
          },
          "geo": {
           "bgcolor": "white",
           "lakecolor": "white",
           "landcolor": "#E5ECF6",
           "showlakes": true,
           "showland": true,
           "subunitcolor": "white"
          },
          "hoverlabel": {
           "align": "left"
          },
          "hovermode": "closest",
          "mapbox": {
           "style": "light"
          },
          "paper_bgcolor": "white",
          "plot_bgcolor": "#E5ECF6",
          "polar": {
           "angularaxis": {
            "gridcolor": "white",
            "linecolor": "white",
            "ticks": ""
           },
           "bgcolor": "#E5ECF6",
           "radialaxis": {
            "gridcolor": "white",
            "linecolor": "white",
            "ticks": ""
           }
          },
          "scene": {
           "xaxis": {
            "backgroundcolor": "#E5ECF6",
            "gridcolor": "white",
            "gridwidth": 2,
            "linecolor": "white",
            "showbackground": true,
            "ticks": "",
            "zerolinecolor": "white"
           },
           "yaxis": {
            "backgroundcolor": "#E5ECF6",
            "gridcolor": "white",
            "gridwidth": 2,
            "linecolor": "white",
            "showbackground": true,
            "ticks": "",
            "zerolinecolor": "white"
           },
           "zaxis": {
            "backgroundcolor": "#E5ECF6",
            "gridcolor": "white",
            "gridwidth": 2,
            "linecolor": "white",
            "showbackground": true,
            "ticks": "",
            "zerolinecolor": "white"
           }
          },
          "shapedefaults": {
           "line": {
            "color": "#2a3f5f"
           }
          },
          "ternary": {
           "aaxis": {
            "gridcolor": "white",
            "linecolor": "white",
            "ticks": ""
           },
           "baxis": {
            "gridcolor": "white",
            "linecolor": "white",
            "ticks": ""
           },
           "bgcolor": "#E5ECF6",
           "caxis": {
            "gridcolor": "white",
            "linecolor": "white",
            "ticks": ""
           }
          },
          "title": {
           "x": 0.05
          },
          "xaxis": {
           "automargin": true,
           "gridcolor": "white",
           "linecolor": "white",
           "ticks": "",
           "title": {
            "standoff": 15
           },
           "zerolinecolor": "white",
           "zerolinewidth": 2
          },
          "yaxis": {
           "automargin": true,
           "gridcolor": "white",
           "linecolor": "white",
           "ticks": "",
           "title": {
            "standoff": 15
           },
           "zerolinecolor": "white",
           "zerolinewidth": 2
          }
         }
        }
       }
      }
     },
     "metadata": {},
     "output_type": "display_data"
    }
   ],
   "source": [
    "#WINTER\n",
    "label_list = ['lying', 'sitting',  \n",
    "              'lying', 'sitting', 'standing', 'eating',\n",
    "              'standing', 'sitting', 'grooming', 'eating' ]\n",
    "\n",
    "# Pose 1: lying: 0, sitting: 1, \n",
    "# Pose 2: lying: 2, sitting: 3, standing: 4, eating: 5\n",
    "# Pose 3: standing: 6, sitting: 7, grooming: 8, eating: 9\n",
    "\n",
    "source = [0, 0, 0, 1,   2, 3, 3, 4, 5]\n",
    "target = [3, 4, 5, 2,   6, 6, 9, 7, 6]\n",
    "count = [8, 5, 1, 14,   14, 6, 2, 5, 1]\n",
    "\n",
    "fig = go.Figure(data=[go.Sankey(\n",
    "    node = {\"label\": label_list},\n",
    "    link = {\"source\": source, \"target\": target, \"value\": count}\n",
    "    )])\n",
    "fig.show()"
   ]
  },
  {
   "cell_type": "markdown",
   "id": "361dbe5c",
   "metadata": {},
   "source": [
    "### Lazy cats beeswarm"
   ]
  },
  {
   "cell_type": "code",
   "execution_count": 151,
   "id": "2eaee3ae",
   "metadata": {},
   "outputs": [
    {
     "data": {
      "text/plain": [
       "<matplotlib.collections.PathCollection at 0x1d02fb91d30>"
      ]
     },
     "execution_count": 151,
     "metadata": {},
     "output_type": "execute_result"
    },
    {
     "data": {
      "image/png": "[encoded data removed]",
      "text/plain": [
       "<Figure size 432x288 with 1 Axes>"
      ]
     },
     "metadata": {
      "needs_background": "light"
     },
     "output_type": "display_data"
    }
   ],
   "source": [
    "## Scatter\n",
    "fig, ax = plt.subplots()\n",
    "ax.scatter(df[\"propLazy\"], df[\"lazy_diff\"])\n"
   ]
  },
  {
   "cell_type": "code",
   "execution_count": 153,
   "id": "525fe2ea",
   "metadata": {},
   "outputs": [
    {
     "data": {
      "text/plain": [
       "<matplotlib.collections.PathCollection at 0x1d02fc5a6d0>"
      ]
     },
     "execution_count": 153,
     "metadata": {},
     "output_type": "execute_result"
    },
    {
     "data": {
      "image/png": "[encoded data removed]",
      "text/plain": [
       "<Figure size 432x288 with 1 Axes>"
      ]
     },
     "metadata": {
      "needs_background": "light"
     },
     "output_type": "display_data"
    }
   ],
   "source": [
    "def relax_y_positions(x_vals, y_vals, radius=1, iterations=10):\n",
    "    y = y_vals.copy()\n",
    "    for _ in range(iterations):\n",
    "        for i in range(len(x_vals)):\n",
    "            for j in range(i + 1, len(x_vals)):\n",
    "                if abs(x_vals[i] - x_vals[j]) < 1:\n",
    "                    dy = y[j] - y[i]\n",
    "                    if abs(dy) < 2 * radius:\n",
    "                        shift = (2 * radius - abs(dy)) / 2\n",
    "                        direction = 1 if dy >= 0 else -1\n",
    "                        y[i] -= shift * direction\n",
    "                        y[j] += shift * direction\n",
    "    return y\n",
    "\n",
    "new_y = relax_y_positions(df[\"propLazy\"], df[\"lazy_diff\"])\n",
    "\n",
    "## Scatter\n",
    "fig, ax = plt.subplots()\n",
    "ax.scatter(df[\"propLazy\"], new_y)"
   ]
  }
 ],
 "metadata": {
  "kernelspec": {
   "display_name": "py3_viz",
   "language": "python",
   "name": "python3"
  },
  "language_info": {
   "codemirror_mode": {
    "name": "ipython",
    "version": 3
   },
   "file_extension": ".py",
   "mimetype": "text/x-python",
   "name": "python",
   "nbconvert_exporter": "python",
   "pygments_lexer": "ipython3",
   "version": "3.9.2"
  }
 },
 "nbformat": 4,
 "nbformat_minor": 5
}
